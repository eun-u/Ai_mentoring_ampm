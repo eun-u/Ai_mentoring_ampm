{
  "cells": [
    {
      "cell_type": "markdown",
      "metadata": {
        "id": "XC9w-XT8kArE"
      },
      "source": [
        "<br>\n",
        "\n",
        "#### 0. 특정 함수에 대해 궁금할 때"
      ]
    },
    {
      "cell_type": "code",
      "execution_count": null,
      "metadata": {
        "id": "jfuD4nyYkArG",
        "outputId": "6ffc0d6e-311f-4210-9a32-a6c3e6a67172"
      },
      "outputs": [
        {
          "name": "stdout",
          "output_type": "stream",
          "text": [
            "\n"
          ]
        }
      ],
      "source": [
        "# Shift + Enter : 셀의 실행\n",
        "# Shift + Tap : 함수 & 변수의 Docstring 확인\n",
        "\n",
        "print()"
      ]
    },
    {
      "cell_type": "code",
      "execution_count": null,
      "metadata": {
        "id": "Yv4N65-DkArH",
        "outputId": "ea38e0d2-dbfe-466d-acae-6fec52d4008d"
      },
      "outputs": [
        {
          "name": "stdout",
          "output_type": "stream",
          "text": [
            "Help on built-in function print in module builtins:\n",
            "\n",
            "print(...)\n",
            "    print(value, ..., sep=' ', end='\\n', file=sys.stdout, flush=False)\n",
            "    \n",
            "    Prints the values to a stream, or to sys.stdout by default.\n",
            "    Optional keyword arguments:\n",
            "    file:  a file-like object (stream); defaults to the current sys.stdout.\n",
            "    sep:   string inserted between values, default a space.\n",
            "    end:   string appended after the last value, default a newline.\n",
            "    flush: whether to forcibly flush the stream.\n",
            "\n"
          ]
        }
      ],
      "source": [
        "help(print)"
      ]
    },
    {
      "cell_type": "code",
      "execution_count": null,
      "metadata": {
        "collapsed": true,
        "id": "50MG8kqIkArI"
      },
      "outputs": [],
      "source": [
        "# 이것은 주석입니다."
      ]
    },
    {
      "cell_type": "markdown",
      "metadata": {
        "id": "8Cdlp54PkArI"
      },
      "source": [
        "<br>\n",
        "\n",
        "#### 1. 기초 데이터 타입"
      ]
    },
    {
      "cell_type": "markdown",
      "metadata": {
        "id": "7tHVufG5kArI"
      },
      "source": [
        "#### 정수형(integer)과 실수형(floats)"
      ]
    },
    {
      "cell_type": "code",
      "execution_count": null,
      "metadata": {
        "id": "kiFaSyiykArI"
      },
      "outputs": [],
      "source": [
        "x = 9"
      ]
    },
    {
      "cell_type": "code",
      "execution_count": null,
      "metadata": {
        "colab": {
          "base_uri": "https://localhost:8080/"
        },
        "id": "OHa_omqUkArI",
        "outputId": "aab57852-68a0-4e2c-e439-556a258dfc0c"
      },
      "outputs": [
        {
          "output_type": "stream",
          "name": "stdout",
          "text": [
            "9\n"
          ]
        }
      ],
      "source": [
        "print(x)"
      ]
    },
    {
      "cell_type": "code",
      "execution_count": null,
      "metadata": {
        "colab": {
          "base_uri": "https://localhost:8080/"
        },
        "id": "XIbS9fSIkArI",
        "outputId": "37729f15-2aff-4482-d48d-2104efc84f13"
      },
      "outputs": [
        {
          "output_type": "execute_result",
          "data": {
            "text/plain": [
              "int"
            ]
          },
          "metadata": {},
          "execution_count": 4
        }
      ],
      "source": [
        "type(x)"
      ]
    },
    {
      "cell_type": "code",
      "execution_count": null,
      "metadata": {
        "colab": {
          "base_uri": "https://localhost:8080/"
        },
        "id": "Rn6mDeZCkArJ",
        "outputId": "97dbabe9-fe7a-4508-e524-b802deb49cdc"
      },
      "outputs": [
        {
          "output_type": "execute_result",
          "data": {
            "text/plain": [
              "10"
            ]
          },
          "metadata": {},
          "execution_count": 5
        }
      ],
      "source": [
        "x + 1"
      ]
    },
    {
      "cell_type": "code",
      "execution_count": null,
      "metadata": {
        "colab": {
          "base_uri": "https://localhost:8080/"
        },
        "id": "aHtu0jtakArJ",
        "outputId": "acbf1327-4f94-49b5-81b6-407050e98bb6"
      },
      "outputs": [
        {
          "output_type": "execute_result",
          "data": {
            "text/plain": [
              "18"
            ]
          },
          "metadata": {},
          "execution_count": 6
        }
      ],
      "source": [
        "x * 2"
      ]
    },
    {
      "cell_type": "code",
      "execution_count": null,
      "metadata": {
        "colab": {
          "base_uri": "https://localhost:8080/"
        },
        "id": "WVK3gRb-kArJ",
        "outputId": "6ee3375f-22e3-41a5-e47f-f77458b54286"
      },
      "outputs": [
        {
          "output_type": "execute_result",
          "data": {
            "text/plain": [
              "81"
            ]
          },
          "metadata": {},
          "execution_count": 7
        }
      ],
      "source": [
        "x ** 2 # 제곱 연산"
      ]
    },
    {
      "cell_type": "code",
      "execution_count": null,
      "metadata": {
        "colab": {
          "base_uri": "https://localhost:8080/"
        },
        "id": "egdmXiKUkArJ",
        "outputId": "ec37b2bf-617d-4823-af0e-c14290ad57c3"
      },
      "outputs": [
        {
          "output_type": "execute_result",
          "data": {
            "text/plain": [
              "4.5"
            ]
          },
          "metadata": {},
          "execution_count": 8
        }
      ],
      "source": [
        "x / 2 # 몫, 소수점까지 계산"
      ]
    },
    {
      "cell_type": "code",
      "execution_count": null,
      "metadata": {
        "colab": {
          "base_uri": "https://localhost:8080/"
        },
        "id": "bmaBQdpvkArK",
        "outputId": "3d700371-a6aa-4235-eb22-9d5a2cfd7112"
      },
      "outputs": [
        {
          "output_type": "execute_result",
          "data": {
            "text/plain": [
              "4"
            ]
          },
          "metadata": {},
          "execution_count": 9
        }
      ],
      "source": [
        "x // 2 # 몫, 정수로만 계산"
      ]
    },
    {
      "cell_type": "code",
      "execution_count": null,
      "metadata": {
        "scrolled": true,
        "colab": {
          "base_uri": "https://localhost:8080/"
        },
        "id": "0chURkZpkArK",
        "outputId": "a4d037ed-7b83-4eb5-a2c5-4b81a92b8eb1"
      },
      "outputs": [
        {
          "output_type": "execute_result",
          "data": {
            "text/plain": [
              "1"
            ]
          },
          "metadata": {},
          "execution_count": 10
        }
      ],
      "source": [
        "x % 2 # 나머지"
      ]
    },
    {
      "cell_type": "code",
      "execution_count": null,
      "metadata": {
        "colab": {
          "base_uri": "https://localhost:8080/"
        },
        "id": "DWzSHzH0kArK",
        "outputId": "085b59ec-8bdc-4610-ab37-e88f8d14af31"
      },
      "outputs": [
        {
          "output_type": "execute_result",
          "data": {
            "text/plain": [
              "10"
            ]
          },
          "metadata": {},
          "execution_count": 11
        }
      ],
      "source": [
        "x += 1\n",
        "x"
      ]
    },
    {
      "cell_type": "code",
      "execution_count": null,
      "metadata": {
        "colab": {
          "base_uri": "https://localhost:8080/"
        },
        "id": "fBD1zE54kArK",
        "outputId": "99891193-2895-42b3-81a9-9c463ddb7065"
      },
      "outputs": [
        {
          "output_type": "execute_result",
          "data": {
            "text/plain": [
              "20"
            ]
          },
          "metadata": {},
          "execution_count": 12
        }
      ],
      "source": [
        "x *= 2 # 곱하여 변수에 그대로 담기\n",
        "x"
      ]
    },
    {
      "cell_type": "code",
      "execution_count": null,
      "metadata": {
        "id": "lBZUdichkArL"
      },
      "outputs": [],
      "source": [
        "y = 2.5"
      ]
    },
    {
      "cell_type": "code",
      "execution_count": null,
      "metadata": {
        "colab": {
          "base_uri": "https://localhost:8080/"
        },
        "id": "-FHyuX1ukArL",
        "outputId": "6385278d-e322-4c69-85b7-7d22fa2d6b3f"
      },
      "outputs": [
        {
          "output_type": "execute_result",
          "data": {
            "text/plain": [
              "float"
            ]
          },
          "metadata": {},
          "execution_count": 14
        }
      ],
      "source": [
        "type(y) # 어떤 타입일까요?"
      ]
    },
    {
      "cell_type": "code",
      "execution_count": null,
      "metadata": {
        "colab": {
          "base_uri": "https://localhost:8080/"
        },
        "id": "yvFouA_fkArL",
        "outputId": "f7a9faad-ef2f-46a9-8597-fdc206233acc"
      },
      "outputs": [
        {
          "output_type": "execute_result",
          "data": {
            "text/plain": [
              "2"
            ]
          },
          "metadata": {},
          "execution_count": 15
        }
      ],
      "source": [
        "# y를 정수 자료형으로 바꾸려면?\n",
        "int(y) # from float to integer"
      ]
    },
    {
      "cell_type": "code",
      "execution_count": null,
      "metadata": {
        "colab": {
          "base_uri": "https://localhost:8080/"
        },
        "id": "X1vk6OTPkArL",
        "outputId": "2a45fea4-28b6-4305-b54a-78abe420bce2"
      },
      "outputs": [
        {
          "output_type": "execute_result",
          "data": {
            "text/plain": [
              "9.0"
            ]
          },
          "metadata": {},
          "execution_count": 16
        }
      ],
      "source": [
        "x = 9\n",
        "float(x)"
      ]
    },
    {
      "cell_type": "code",
      "execution_count": null,
      "metadata": {
        "colab": {
          "base_uri": "https://localhost:8080/"
        },
        "id": "C-mDj6e5kArL",
        "outputId": "00d5dc56-ef61-4569-9450-c02a2c5a29f7"
      },
      "outputs": [
        {
          "output_type": "stream",
          "name": "stdout",
          "text": [
            "2.5 3.5 5.0 6.25\n"
          ]
        }
      ],
      "source": [
        "print(y, y+1, y*2, y**2)"
      ]
    },
    {
      "cell_type": "code",
      "execution_count": null,
      "metadata": {
        "colab": {
          "base_uri": "https://localhost:8080/"
        },
        "id": "rulvQgwnkArL",
        "outputId": "a4ea319b-5596-43b0-e9de-d140b60747e9"
      },
      "outputs": [
        {
          "output_type": "execute_result",
          "data": {
            "text/plain": [
              "3"
            ]
          },
          "metadata": {},
          "execution_count": 18
        }
      ],
      "source": [
        "x = 3.14\n",
        "int(x) # from float to integer"
      ]
    },
    {
      "cell_type": "markdown",
      "metadata": {
        "id": "gJ7bIqlPkArM"
      },
      "source": [
        "#### 문자열 (string)"
      ]
    },
    {
      "cell_type": "code",
      "execution_count": null,
      "metadata": {
        "id": "VzrX-esgkArM"
      },
      "outputs": [],
      "source": [
        "s = \"Hello\""
      ]
    },
    {
      "cell_type": "code",
      "execution_count": null,
      "metadata": {
        "colab": {
          "base_uri": "https://localhost:8080/"
        },
        "id": "OxHTXyn8kArM",
        "outputId": "e7b5f0af-380e-4431-e46e-4f8832e49c2e"
      },
      "outputs": [
        {
          "output_type": "execute_result",
          "data": {
            "text/plain": [
              "str"
            ]
          },
          "metadata": {},
          "execution_count": 20
        }
      ],
      "source": [
        "type(s)"
      ]
    },
    {
      "cell_type": "code",
      "execution_count": null,
      "metadata": {
        "colab": {
          "base_uri": "https://localhost:8080/"
        },
        "id": "IIJk7BUwkArM",
        "outputId": "20d7f76e-18bd-4055-ad6b-b0408d88cacb"
      },
      "outputs": [
        {
          "output_type": "execute_result",
          "data": {
            "text/plain": [
              "5"
            ]
          },
          "metadata": {},
          "execution_count": 22
        }
      ],
      "source": [
        "len(s) # 길이를 영어로 하면? (앞 3글자)"
      ]
    },
    {
      "cell_type": "code",
      "execution_count": null,
      "metadata": {
        "colab": {
          "base_uri": "https://localhost:8080/",
          "height": 35
        },
        "id": "NiHzw1KqkArM",
        "outputId": "ba03e9c6-9ff9-47c0-b513-fdab2d9ea5a6"
      },
      "outputs": [
        {
          "output_type": "execute_result",
          "data": {
            "text/plain": [
              "'HELLO'"
            ],
            "application/vnd.google.colaboratory.intrinsic+json": {
              "type": "string"
            }
          },
          "metadata": {},
          "execution_count": 23
        }
      ],
      "source": [
        "s.upper()"
      ]
    },
    {
      "cell_type": "code",
      "execution_count": null,
      "metadata": {
        "colab": {
          "base_uri": "https://localhost:8080/",
          "height": 35
        },
        "id": "cBAGLjyqkArM",
        "outputId": "e236e208-e310-466c-aa92-64f1f901e62d"
      },
      "outputs": [
        {
          "output_type": "execute_result",
          "data": {
            "text/plain": [
              "'hello'"
            ],
            "application/vnd.google.colaboratory.intrinsic+json": {
              "type": "string"
            }
          },
          "metadata": {},
          "execution_count": 24
        }
      ],
      "source": [
        "s.lower() # 모두 소문자로"
      ]
    },
    {
      "cell_type": "code",
      "execution_count": null,
      "metadata": {
        "colab": {
          "base_uri": "https://localhost:8080/"
        },
        "id": "oekeTk1MkArM",
        "outputId": "bbc65ccc-451f-49d0-9348-928ded87d56e"
      },
      "outputs": [
        {
          "output_type": "stream",
          "name": "stdout",
          "text": [
            "My name is Groot\n"
          ]
        }
      ],
      "source": [
        "print(\"My name is {}\".format(\"Groot\"))"
      ]
    },
    {
      "cell_type": "code",
      "execution_count": null,
      "metadata": {
        "colab": {
          "base_uri": "https://localhost:8080/"
        },
        "id": "NL25cLWGkArN",
        "outputId": "66dada28-1bb0-494d-8627-ab8f633ff388"
      },
      "outputs": [
        {
          "output_type": "stream",
          "name": "stdout",
          "text": [
            "Hello world\n"
          ]
        }
      ],
      "source": [
        "print(\"Hello \"+\"world\") # 문자열 합치기"
      ]
    },
    {
      "cell_type": "code",
      "execution_count": null,
      "metadata": {
        "collapsed": true,
        "id": "nRSBSD9fkArN"
      },
      "outputs": [],
      "source": [
        "temp = \"Python\""
      ]
    },
    {
      "cell_type": "code",
      "execution_count": null,
      "metadata": {
        "id": "2P5c_fB6kArO"
      },
      "outputs": [],
      "source": [
        "\n",
        "temp()\n",
        "temp[:]\n",
        "\n",
        "? <-  :\n",
        "? <-  :\n"
      ]
    },
    {
      "cell_type": "code",
      "execution_count": null,
      "metadata": {
        "colab": {
          "base_uri": "https://localhost:8080/",
          "height": 35
        },
        "id": "vEHBDJEVkArO",
        "outputId": "e2f4c139-2308-4bbb-faba-19b8cc8fdf8b"
      },
      "outputs": [
        {
          "output_type": "execute_result",
          "data": {
            "text/plain": [
              "'P'"
            ],
            "application/vnd.google.colaboratory.intrinsic+json": {
              "type": "string"
            }
          },
          "metadata": {},
          "execution_count": 31
        }
      ],
      "source": [
        "temp[0]"
      ]
    },
    {
      "cell_type": "code",
      "execution_count": null,
      "metadata": {
        "colab": {
          "base_uri": "https://localhost:8080/",
          "height": 35
        },
        "id": "WmUzRZVWkArO",
        "outputId": "9274fbbf-dd82-4751-9ae9-ad136a4352a3"
      },
      "outputs": [
        {
          "output_type": "execute_result",
          "data": {
            "text/plain": [
              "'Pyth'"
            ],
            "application/vnd.google.colaboratory.intrinsic+json": {
              "type": "string"
            }
          },
          "metadata": {},
          "execution_count": 32
        }
      ],
      "source": [
        "temp[0:4]"
      ]
    },
    {
      "cell_type": "code",
      "execution_count": null,
      "metadata": {
        "colab": {
          "base_uri": "https://localhost:8080/",
          "height": 35
        },
        "id": "yN3ojDXbkArP",
        "outputId": "c03ad9b3-e4a8-42da-bb5e-c05aa1fe9c04"
      },
      "outputs": [
        {
          "output_type": "execute_result",
          "data": {
            "text/plain": [
              "'on'"
            ],
            "application/vnd.google.colaboratory.intrinsic+json": {
              "type": "string"
            }
          },
          "metadata": {},
          "execution_count": 33
        }
      ],
      "source": [
        "temp[4:]"
      ]
    },
    {
      "cell_type": "code",
      "execution_count": null,
      "metadata": {
        "colab": {
          "base_uri": "https://localhost:8080/",
          "height": 35
        },
        "id": "6RNznbMBkArP",
        "outputId": "8d3bdcb8-1da9-40be-9b90-6e0097afc33e"
      },
      "outputs": [
        {
          "output_type": "execute_result",
          "data": {
            "text/plain": [
              "'n'"
            ],
            "application/vnd.google.colaboratory.intrinsic+json": {
              "type": "string"
            }
          },
          "metadata": {},
          "execution_count": 34
        }
      ],
      "source": [
        "temp[-1]"
      ]
    },
    {
      "cell_type": "code",
      "execution_count": null,
      "metadata": {
        "colab": {
          "base_uri": "https://localhost:8080/"
        },
        "id": "3dRs9z_vkArP",
        "outputId": "6a87d102-78ac-4c92-d651-aad3446c4d87"
      },
      "outputs": [
        {
          "output_type": "execute_result",
          "data": {
            "text/plain": [
              "['Python', 'is', 'easy']"
            ]
          },
          "metadata": {},
          "execution_count": 36
        }
      ],
      "source": [
        "temp = \"Python is easy\"\n",
        "temp.split() # str을 특정한 문자(기본값:여백)를 기준으로 잘라내어 list로 만들어줍니다. (이 때 기준이 되는 해당 문자는 삭제됩니다.)"
      ]
    },
    {
      "cell_type": "code",
      "execution_count": null,
      "metadata": {
        "colab": {
          "base_uri": "https://localhost:8080/"
        },
        "id": "bEeks31jkArP",
        "outputId": "67fb05aa-393d-4db9-f35f-889de2c363f0"
      },
      "outputs": [
        {
          "output_type": "execute_result",
          "data": {
            "text/plain": [
              "['Python i', ' ea', 'y']"
            ]
          },
          "metadata": {},
          "execution_count": 38
        }
      ],
      "source": [
        "temp = \"Python is easy\"\n",
        "temp.split('s') # 's'를 기준으로 자르려면?"
      ]
    },
    {
      "cell_type": "code",
      "execution_count": null,
      "metadata": {
        "colab": {
          "base_uri": "https://localhost:8080/",
          "height": 35
        },
        "id": "b2Iuzb_ZkArR",
        "outputId": "0740d728-ab03-4505-d4d0-7b0a619705c6"
      },
      "outputs": [
        {
          "output_type": "execute_result",
          "data": {
            "text/plain": [
              "'Python___is___easy'"
            ],
            "application/vnd.google.colaboratory.intrinsic+json": {
              "type": "string"
            }
          },
          "metadata": {},
          "execution_count": 39
        }
      ],
      "source": [
        "temp = ['Python', 'is', 'easy']\n",
        "'___'.join(temp)"
      ]
    },
    {
      "cell_type": "code",
      "execution_count": null,
      "metadata": {
        "colab": {
          "base_uri": "https://localhost:8080/",
          "height": 35
        },
        "id": "JESfaWunkArR",
        "outputId": "d7870483-616a-45d6-bd50-dc0a30b75371"
      },
      "outputs": [
        {
          "output_type": "execute_result",
          "data": {
            "text/plain": [
              "'Python is easy'"
            ],
            "application/vnd.google.colaboratory.intrinsic+json": {
              "type": "string"
            }
          },
          "metadata": {},
          "execution_count": 40
        }
      ],
      "source": [
        "' '.join(temp) # \"Python is easy\" 와 같이 합치려면?"
      ]
    },
    {
      "cell_type": "code",
      "execution_count": null,
      "metadata": {
        "colab": {
          "base_uri": "https://localhost:8080/"
        },
        "id": "P10va4QtkArS",
        "outputId": "d103d3c9-66ec-4e5f-9408-3a6f2592cd79"
      },
      "outputs": [
        {
          "output_type": "execute_result",
          "data": {
            "text/plain": [
              "214"
            ]
          },
          "metadata": {},
          "execution_count": 42
        }
      ],
      "source": [
        "x = 214\n",
        "int(x) # Integer to string"
      ]
    },
    {
      "cell_type": "markdown",
      "metadata": {
        "id": "hd3hvTfVkArS"
      },
      "source": [
        "#### 참/거짓 (bool)"
      ]
    },
    {
      "cell_type": "code",
      "execution_count": null,
      "metadata": {
        "id": "FCZaLIfpkArS"
      },
      "outputs": [],
      "source": [
        "t = True\n",
        "f = False"
      ]
    },
    {
      "cell_type": "code",
      "execution_count": null,
      "metadata": {
        "colab": {
          "base_uri": "https://localhost:8080/"
        },
        "id": "PDC8y-rTkArS",
        "outputId": "5c0f06dd-6cc5-4b39-801e-1ef1d9748889"
      },
      "outputs": [
        {
          "output_type": "execute_result",
          "data": {
            "text/plain": [
              "bool"
            ]
          },
          "metadata": {},
          "execution_count": 43
        }
      ],
      "source": [
        "type(t)"
      ]
    },
    {
      "cell_type": "code",
      "execution_count": null,
      "metadata": {
        "colab": {
          "base_uri": "https://localhost:8080/"
        },
        "id": "kJ080AmukArS",
        "outputId": "3b9fe239-597a-476f-aab8-b9847a465e63"
      },
      "outputs": [
        {
          "output_type": "stream",
          "name": "stdout",
          "text": [
            "False\n"
          ]
        }
      ],
      "source": [
        "print(t and f)"
      ]
    },
    {
      "cell_type": "code",
      "execution_count": null,
      "metadata": {
        "colab": {
          "base_uri": "https://localhost:8080/"
        },
        "id": "Wj4Lm1NHkArT",
        "outputId": "3917ae4b-9574-4999-a542-7626ac7bc46f"
      },
      "outputs": [
        {
          "output_type": "stream",
          "name": "stdout",
          "text": [
            "True\n"
          ]
        }
      ],
      "source": [
        "print(t or f)"
      ]
    },
    {
      "cell_type": "code",
      "execution_count": null,
      "metadata": {
        "colab": {
          "base_uri": "https://localhost:8080/"
        },
        "id": "5-uTw1PqkArT",
        "outputId": "8e46c2d3-052d-4479-890a-67ee86fae153"
      },
      "outputs": [
        {
          "output_type": "stream",
          "name": "stdout",
          "text": [
            "False\n"
          ]
        }
      ],
      "source": [
        "print(not t)"
      ]
    },
    {
      "cell_type": "markdown",
      "metadata": {
        "id": "n3vLMu5_kArT"
      },
      "source": [
        "<br>\n",
        "\n",
        "#### 2. 함수 (function, method)"
      ]
    },
    {
      "cell_type": "code",
      "execution_count": null,
      "metadata": {
        "collapsed": true,
        "id": "9DzljQXkkArT"
      },
      "outputs": [],
      "source": [
        "# 2개의 숫자를 외부로부터 받아 합친 값을 돌려주는 함수 add_nums 만들기\n"
      ]
    },
    {
      "cell_type": "code",
      "execution_count": null,
      "metadata": {
        "colab": {
          "base_uri": "https://localhost:8080/"
        },
        "id": "emQjhDn1kArT",
        "outputId": "194830a8-dc30-47cc-c0f7-87aa3c08ef56"
      },
      "outputs": [
        {
          "name": "stdout",
          "output_type": "stream",
          "text": [
            "첫 번째 숫자를 입력하세요: 2\n",
            "두 번째 숫자를 입력하세요: 3\n"
          ]
        },
        {
          "output_type": "execute_result",
          "data": {
            "text/plain": [
              "5"
            ]
          },
          "metadata": {},
          "execution_count": 49
        }
      ],
      "source": [
        "def add_nums():\n",
        "    num1 = int(input(\"첫 번째 숫자를 입력하세요: \"))\n",
        "    num2 = int(input(\"두 번째 숫자를 입력하세요: \"))\n",
        "\n",
        "    return num1+num2\n",
        "add_nums()"
      ]
    },
    {
      "cell_type": "code",
      "execution_count": null,
      "metadata": {
        "collapsed": true,
        "id": "7xZOhnjUkArT"
      },
      "outputs": [],
      "source": [
        "# Quiz 1. 성과 이름을 받아 이름을 출력해주는 함수 name_creator 만들기\n"
      ]
    },
    {
      "cell_type": "code",
      "execution_count": null,
      "metadata": {
        "colab": {
          "base_uri": "https://localhost:8080/",
          "height": 71
        },
        "id": "1TTsnePbkArU",
        "outputId": "9843bdae-7d36-4fff-f24c-0f3b7499fcbd"
      },
      "outputs": [
        {
          "name": "stdout",
          "output_type": "stream",
          "text": [
            "성을 입력하세요 : 심\n",
            "이름을 입력하세요 : 은진\n"
          ]
        },
        {
          "output_type": "execute_result",
          "data": {
            "text/plain": [
              "'심은진'"
            ],
            "application/vnd.google.colaboratory.intrinsic+json": {
              "type": "string"
            }
          },
          "metadata": {},
          "execution_count": 52
        }
      ],
      "source": [
        "def name_creator():\n",
        "  last_name = input(\"성을 입력하세요 : \")\n",
        "  first_name = input(\"이름을 입력하세요 : \")\n",
        "\n",
        "  return last_name + first_name\n",
        "name_creator()"
      ]
    },
    {
      "cell_type": "code",
      "execution_count": null,
      "metadata": {
        "id": "zra2G2XIkArU"
      },
      "outputs": [],
      "source": [
        "# Quiz 2. 다음 함수는 에러를 출력합니다. 어디를 고쳐야할까요?\n",
        "def drink():\n",
        "  beverage = \"Coke\"\n",
        "  print(beverage)"
      ]
    },
    {
      "cell_type": "code",
      "execution_count": null,
      "metadata": {
        "collapsed": true,
        "id": "u3rENDB1kArU"
      },
      "outputs": [],
      "source": [
        "# Quiz 3. 원의 반지름을 받아 원의 넓이를 Return 해주는 함수 circle_area 만들기 (ㅠ = 3.14)\n"
      ]
    },
    {
      "cell_type": "code",
      "execution_count": null,
      "metadata": {
        "colab": {
          "base_uri": "https://localhost:8080/"
        },
        "id": "Vgl5rdwakArU",
        "outputId": "4e8f17db-82c4-410c-b59f-cffecfc4d26c"
      },
      "outputs": [
        {
          "name": "stdout",
          "output_type": "stream",
          "text": [
            "원의 반지름을 입력해주세요 : 10\n"
          ]
        },
        {
          "output_type": "execute_result",
          "data": {
            "text/plain": [
              "314.0"
            ]
          },
          "metadata": {},
          "execution_count": 55
        }
      ],
      "source": [
        "def circle_area():\n",
        "  radius = int(input(\"원의 반지름을 입력해주세요 : \"))\n",
        "  return radius * radius * 3.14\n",
        "circle_area()"
      ]
    },
    {
      "cell_type": "markdown",
      "metadata": {
        "id": "tiOWKvcqkArV"
      },
      "source": [
        "<br>\n",
        "\n",
        "#### 3. 컨테이너 (다른 변수들을 담을 수 있는 자료형)\n",
        "list, dict, tuple, set"
      ]
    },
    {
      "cell_type": "markdown",
      "metadata": {
        "id": "7p0ZvfsnkArV"
      },
      "source": [
        "#### 리스트 (list)"
      ]
    },
    {
      "cell_type": "code",
      "execution_count": null,
      "metadata": {
        "colab": {
          "base_uri": "https://localhost:8080/"
        },
        "id": "vyctZv95kArV",
        "outputId": "184f681e-625b-41f6-d3eb-586d4a716b7b"
      },
      "outputs": [
        {
          "output_type": "execute_result",
          "data": {
            "text/plain": [
              "[3, 1, 2, 4, 6]"
            ]
          },
          "metadata": {},
          "execution_count": 3
        }
      ],
      "source": [
        "x = [3, 1, 2, 4, 6] # 리스트의 생성\n",
        "x"
      ]
    },
    {
      "cell_type": "code",
      "source": [
        "x[0:3] # [3, 1, 2] 를 출력하려면?"
      ],
      "metadata": {
        "colab": {
          "base_uri": "https://localhost:8080/"
        },
        "id": "OOmbOIPCtJ3a",
        "outputId": "a3bfe8ed-5ca2-4b9a-9186-5980e8565ac0"
      },
      "execution_count": null,
      "outputs": [
        {
          "output_type": "execute_result",
          "data": {
            "text/plain": [
              "[3, 1, 2]"
            ]
          },
          "metadata": {},
          "execution_count": 4
        }
      ]
    },
    {
      "cell_type": "code",
      "source": [
        "x[1:] #1부터 끝까지?"
      ],
      "metadata": {
        "colab": {
          "base_uri": "https://localhost:8080/"
        },
        "id": "1_22X-p9tKIa",
        "outputId": "f65d62c1-c0ac-4cc4-d643-fd03ea4b721c"
      },
      "execution_count": null,
      "outputs": [
        {
          "output_type": "execute_result",
          "data": {
            "text/plain": [
              "[1, 2, 4, 6]"
            ]
          },
          "metadata": {},
          "execution_count": 5
        }
      ]
    },
    {
      "cell_type": "code",
      "source": [
        "x[-1]"
      ],
      "metadata": {
        "colab": {
          "base_uri": "https://localhost:8080/"
        },
        "id": "QQvViMuUtLtI",
        "outputId": "a67cb114-a1a9-40b7-f554-63b043581a69"
      },
      "execution_count": null,
      "outputs": [
        {
          "output_type": "execute_result",
          "data": {
            "text/plain": [
              "6"
            ]
          },
          "metadata": {},
          "execution_count": 6
        }
      ]
    },
    {
      "cell_type": "code",
      "execution_count": null,
      "metadata": {
        "id": "nQnp_kIkkArW",
        "outputId": "3498e18f-9093-4c08-9650-f2291d9b073a",
        "colab": {
          "base_uri": "https://localhost:8080/"
        }
      },
      "outputs": [
        {
          "output_type": "execute_result",
          "data": {
            "text/plain": [
              "[3, 1, 2, 4, 6, '어머나']"
            ]
          },
          "metadata": {},
          "execution_count": 7
        }
      ],
      "source": [
        "x.append(\"어머나\") # 리스트 item 추가하기\n",
        "x"
      ]
    },
    {
      "cell_type": "code",
      "execution_count": null,
      "metadata": {
        "id": "4KL_-Mi9kArW",
        "outputId": "99c04bfd-7367-4fe3-ef55-49fdf8598db8",
        "colab": {
          "base_uri": "https://localhost:8080/",
          "height": 35
        }
      },
      "outputs": [
        {
          "output_type": "execute_result",
          "data": {
            "text/plain": [
              "'어머나'"
            ],
            "application/vnd.google.colaboratory.intrinsic+json": {
              "type": "string"
            }
          },
          "metadata": {},
          "execution_count": 8
        }
      ],
      "source": [
        "x.pop() # 기본적으로 리스트의 마지막 요소를 삭제하고 반환 (pop(n) -> index 기반으로 n번째 아이템을 삭제할 수도 있음)"
      ]
    },
    {
      "cell_type": "code",
      "execution_count": null,
      "metadata": {
        "id": "S5tFSJw2kArW",
        "outputId": "86b384fe-afe4-4170-d549-48b564861180",
        "colab": {
          "base_uri": "https://localhost:8080/"
        }
      },
      "outputs": [
        {
          "output_type": "execute_result",
          "data": {
            "text/plain": [
              "[3, 1, 2, 4, 6]"
            ]
          },
          "metadata": {},
          "execution_count": 9
        }
      ],
      "source": [
        "x"
      ]
    },
    {
      "cell_type": "code",
      "execution_count": null,
      "metadata": {
        "collapsed": true,
        "id": "h50WoVvFkArW"
      },
      "outputs": [],
      "source": [
        "# 리스트 아이템의 삭제\n",
        "# 1) 데이터의 순서/자리를 활용하여 삭제할 때 : del == index를 활용 (추천)\n",
        "# 2) 데이터 값 자체를 활용하여 삭제할 때 : remove() == value를 활용\n",
        "# 3) 삭제 후 삭제한 값을 리턴받아 활용해야할 때 : pop() == index를 활용"
      ]
    },
    {
      "cell_type": "code",
      "execution_count": null,
      "metadata": {
        "id": "b_5bqNwFkArX",
        "outputId": "da12b7db-5fb6-4245-b2c9-cc292188686e",
        "colab": {
          "base_uri": "https://localhost:8080/"
        }
      },
      "outputs": [
        {
          "output_type": "execute_result",
          "data": {
            "text/plain": [
              "[1, 2, 4, 6]"
            ]
          },
          "metadata": {},
          "execution_count": 10
        }
      ],
      "source": [
        "x.remove(3)\n",
        "x[0] # 삭제의 영어 단어 앞 3글자?\n",
        "x"
      ]
    },
    {
      "cell_type": "code",
      "execution_count": null,
      "metadata": {
        "id": "TMafX6-nkArX",
        "outputId": "b2f198ef-7943-4394-a487-24e4ad8800dc",
        "colab": {
          "base_uri": "https://localhost:8080/"
        }
      },
      "outputs": [
        {
          "output_type": "execute_result",
          "data": {
            "text/plain": [
              "[1, 2, 6]"
            ]
          },
          "metadata": {},
          "execution_count": 11
        }
      ],
      "source": [
        "x.remove(4)\n",
        "x"
      ]
    },
    {
      "cell_type": "code",
      "execution_count": null,
      "metadata": {
        "id": "jEz6TlPIkArX",
        "outputId": "9cf6b0e3-1d51-4dff-e460-9c38248a7839",
        "colab": {
          "base_uri": "https://localhost:8080/"
        }
      },
      "outputs": [
        {
          "output_type": "execute_result",
          "data": {
            "text/plain": [
              "[1, 2, 6, 3, 4, 5]"
            ]
          },
          "metadata": {},
          "execution_count": 12
        }
      ],
      "source": [
        "# 리스트 합치기\n",
        "y = [3, 4, 5]\n",
        "z = x + y # 쉽게 생각해보세요 :)\n",
        "z"
      ]
    },
    {
      "cell_type": "code",
      "execution_count": null,
      "metadata": {
        "id": "iD7hT_EGkArX",
        "outputId": "96fffcd7-12da-41a7-cac7-c638d075ace1"
      },
      "outputs": [
        {
          "data": {
            "text/plain": [
              "[1, 2, 3, 4, 5, 6]"
            ]
          },
          "execution_count": 67,
          "metadata": {},
          "output_type": "execute_result"
        }
      ],
      "source": [
        "# 리스트 정렬하기\n",
        "z.sort()\n",
        "z"
      ]
    },
    {
      "cell_type": "code",
      "execution_count": null,
      "metadata": {
        "id": "txM3YDlpkArY",
        "outputId": "6f912275-940c-4a45-d80e-82de1815d7e9",
        "colab": {
          "base_uri": "https://localhost:8080/"
        }
      },
      "outputs": [
        {
          "output_type": "execute_result",
          "data": {
            "text/plain": [
              "[6, 5, 4, 3, 2, 1]"
            ]
          },
          "metadata": {},
          "execution_count": 13
        }
      ],
      "source": [
        "# 리스트 역으로 정렬하기\n",
        "z.sort(reverse=True) # '거꾸로' 를 영어로 하면?\n",
        "z"
      ]
    },
    {
      "cell_type": "markdown",
      "metadata": {
        "id": "ounH0PP6kArY"
      },
      "source": [
        "#### 딕셔너리 (dict)"
      ]
    },
    {
      "cell_type": "code",
      "execution_count": null,
      "metadata": {
        "id": "Ruoz5PZDkArY",
        "outputId": "1a6174ae-7e77-44c4-8496-f02cf798b4df",
        "colab": {
          "base_uri": "https://localhost:8080/"
        }
      },
      "outputs": [
        {
          "output_type": "execute_result",
          "data": {
            "text/plain": [
              "{'Cat': '야옹', 'Dog': '멍멍'}"
            ]
          },
          "metadata": {},
          "execution_count": 14
        }
      ],
      "source": [
        "cage = {'Cat' : '야옹', 'Dog' : '멍멍'} # {key:value, key:value, ...}\n",
        "cage"
      ]
    },
    {
      "cell_type": "code",
      "execution_count": null,
      "metadata": {
        "id": "dwfJeL9DkArY",
        "outputId": "56fdd302-3523-4c89-aaa6-3d47b89b6746",
        "colab": {
          "base_uri": "https://localhost:8080/",
          "height": 35
        }
      },
      "outputs": [
        {
          "output_type": "execute_result",
          "data": {
            "text/plain": [
              "'야옹'"
            ],
            "application/vnd.google.colaboratory.intrinsic+json": {
              "type": "string"
            }
          },
          "metadata": {},
          "execution_count": 15
        }
      ],
      "source": [
        "cage['Cat'] # key 기반 호출"
      ]
    },
    {
      "cell_type": "code",
      "execution_count": null,
      "metadata": {
        "id": "nslhSdK2kArY",
        "outputId": "0525ba9f-ccc9-46b6-e8f0-678af8fa3490",
        "colab": {
          "base_uri": "https://localhost:8080/",
          "height": 35
        }
      },
      "outputs": [
        {
          "output_type": "execute_result",
          "data": {
            "text/plain": [
              "'야옹'"
            ],
            "application/vnd.google.colaboratory.intrinsic+json": {
              "type": "string"
            }
          },
          "metadata": {},
          "execution_count": 16
        }
      ],
      "source": [
        "cage.get('Cat') # '얻다'"
      ]
    },
    {
      "cell_type": "code",
      "execution_count": null,
      "metadata": {
        "collapsed": true,
        "id": "vBzSZDB-kArY",
        "colab": {
          "base_uri": "https://localhost:8080/",
          "height": 35
        },
        "outputId": "08e5eae5-cb57-41b2-8c53-28c1cb2daab7"
      },
      "outputs": [
        {
          "output_type": "execute_result",
          "data": {
            "text/plain": [
              "'집나감'"
            ],
            "application/vnd.google.colaboratory.intrinsic+json": {
              "type": "string"
            }
          },
          "metadata": {},
          "execution_count": 17
        }
      ],
      "source": [
        "cage.get('Fish', '집나감') # 어떤 결과가 나올까요?"
      ]
    },
    {
      "cell_type": "code",
      "execution_count": null,
      "metadata": {
        "id": "iWr3Qf2AkArZ",
        "outputId": "b7891e20-fe44-4b0b-9845-9a3be24a8090",
        "colab": {
          "base_uri": "https://localhost:8080/"
        }
      },
      "outputs": [
        {
          "output_type": "stream",
          "name": "stdout",
          "text": [
            "Pig {'Cat': '야옹', 'Dog': '멍멍'}\n"
          ]
        }
      ],
      "source": [
        "print('Pig', cage) # key 유무 체크"
      ]
    },
    {
      "cell_type": "code",
      "execution_count": null,
      "metadata": {
        "id": "tEIzEgS3kArZ",
        "outputId": "4efcc277-75d7-483c-f3db-315a56ac9ed4",
        "colab": {
          "base_uri": "https://localhost:8080/"
        }
      },
      "outputs": [
        {
          "output_type": "execute_result",
          "data": {
            "text/plain": [
              "{'Cat': '야옹', 'Dog': '멍멍', 'Pig': '꿀꿀'}"
            ]
          },
          "metadata": {},
          "execution_count": 20
        }
      ],
      "source": [
        "cage['Pig'] = '꿀꿀' # dict에 새로운 item 추가하기\n",
        "cage"
      ]
    },
    {
      "cell_type": "code",
      "execution_count": null,
      "metadata": {
        "id": "eQftR0q8kArZ",
        "outputId": "867656d5-2fa0-4f10-aace-529a8207a95e",
        "colab": {
          "base_uri": "https://localhost:8080/"
        }
      },
      "outputs": [
        {
          "output_type": "execute_result",
          "data": {
            "text/plain": [
              "{'Cat': '야옹', 'Dog': '멍멍'}"
            ]
          },
          "metadata": {},
          "execution_count": 23
        }
      ],
      "source": [
        "del cage['Pig'] # 삭제의 영어 단어 앞 3글자?\n",
        "cage"
      ]
    },
    {
      "cell_type": "code",
      "execution_count": null,
      "metadata": {
        "id": "zrAPglhekArZ",
        "outputId": "d0a97b25-65f2-4140-d531-9ce609a29c83",
        "colab": {
          "base_uri": "https://localhost:8080/"
        }
      },
      "outputs": [
        {
          "output_type": "execute_result",
          "data": {
            "text/plain": [
              "dict_keys(['Cat', 'Dog'])"
            ]
          },
          "metadata": {},
          "execution_count": 24
        }
      ],
      "source": [
        "cage.keys()"
      ]
    },
    {
      "cell_type": "code",
      "execution_count": null,
      "metadata": {
        "id": "QiGzTIe8kArZ",
        "outputId": "b4f96c7e-fb32-4291-be77-c488322f07cb",
        "colab": {
          "base_uri": "https://localhost:8080/"
        }
      },
      "outputs": [
        {
          "output_type": "execute_result",
          "data": {
            "text/plain": [
              "dict_values(['야옹', '멍멍'])"
            ]
          },
          "metadata": {},
          "execution_count": 25
        }
      ],
      "source": [
        "cage.values() # value들을 꺼내려면?"
      ]
    },
    {
      "cell_type": "markdown",
      "metadata": {
        "id": "K3KmOf4kkArZ"
      },
      "source": [
        "#### 튜플(tuple)\n",
        "값과 크기가 변하지 않음"
      ]
    },
    {
      "cell_type": "code",
      "execution_count": null,
      "metadata": {
        "id": "EUaWYlAbkArZ",
        "outputId": "63481ae7-3b81-4ae1-a983-5b6ed4b65392",
        "colab": {
          "base_uri": "https://localhost:8080/"
        }
      },
      "outputs": [
        {
          "output_type": "execute_result",
          "data": {
            "text/plain": [
              "tuple"
            ]
          },
          "metadata": {},
          "execution_count": 26
        }
      ],
      "source": [
        "t = (5, 6)\n",
        "type(t)"
      ]
    },
    {
      "cell_type": "code",
      "execution_count": null,
      "metadata": {
        "id": "wTlFOey0kAra",
        "outputId": "40cb4ff0-23fb-46ea-fd21-c36919bc6caa",
        "colab": {
          "base_uri": "https://localhost:8080/"
        }
      },
      "outputs": [
        {
          "output_type": "execute_result",
          "data": {
            "text/plain": [
              "5"
            ]
          },
          "metadata": {},
          "execution_count": 27
        }
      ],
      "source": [
        "t[0]"
      ]
    },
    {
      "cell_type": "code",
      "execution_count": null,
      "metadata": {
        "collapsed": true,
        "id": "-avlUx3qkAra"
      },
      "outputs": [],
      "source": [
        "# 튜플이 사용되는 예시\n",
        "\n",
        "def return_tuple(x, y):\n",
        "    return x, y"
      ]
    },
    {
      "cell_type": "code",
      "execution_count": null,
      "metadata": {
        "id": "hPiHp0S-kAra",
        "outputId": "3d7b21c0-99d7-475c-ae4b-3fbba200f52d",
        "colab": {
          "base_uri": "https://localhost:8080/"
        }
      },
      "outputs": [
        {
          "output_type": "execute_result",
          "data": {
            "text/plain": [
              "(3, 4)"
            ]
          },
          "metadata": {},
          "execution_count": 29
        }
      ],
      "source": [
        "what = return_tuple(3, 4)\n",
        "what"
      ]
    },
    {
      "cell_type": "markdown",
      "metadata": {
        "id": "_kjQstf_kAra"
      },
      "source": [
        "#### 집합(set)\n",
        "중복을 허용하지 않음"
      ]
    },
    {
      "cell_type": "code",
      "execution_count": null,
      "metadata": {
        "id": "fmX4D-xQkAra",
        "outputId": "42d7ef60-df66-4f76-b6f6-39ba0c901408",
        "colab": {
          "base_uri": "https://localhost:8080/"
        }
      },
      "outputs": [
        {
          "output_type": "execute_result",
          "data": {
            "text/plain": [
              "{1, 2, 3, 4, 5}"
            ]
          },
          "metadata": {},
          "execution_count": 30
        }
      ],
      "source": [
        "s = {1, 2, 3, 3, 4, 4, 5}\n",
        "s"
      ]
    },
    {
      "cell_type": "code",
      "execution_count": null,
      "metadata": {
        "id": "Z7UYqyyAkAra",
        "outputId": "46ab439d-4d4a-45c4-c853-2db4b04175ff",
        "colab": {
          "base_uri": "https://localhost:8080/"
        }
      },
      "outputs": [
        {
          "output_type": "execute_result",
          "data": {
            "text/plain": [
              "[1, 2, 3, 3, 4, 4, 5]"
            ]
          },
          "metadata": {},
          "execution_count": 31
        }
      ],
      "source": [
        "temp = [1, 2, 3, 3, 4, 4, 5]\n",
        "temp"
      ]
    },
    {
      "cell_type": "code",
      "execution_count": null,
      "metadata": {
        "id": "iDaTB6_XkAra",
        "outputId": "d7973835-d7da-4e17-f546-6472407c237d",
        "colab": {
          "base_uri": "https://localhost:8080/"
        }
      },
      "outputs": [
        {
          "output_type": "execute_result",
          "data": {
            "text/plain": [
              "[1, 2, 3, 4, 5]"
            ]
          },
          "metadata": {},
          "execution_count": 32
        }
      ],
      "source": [
        "# 리스트 temp 에서 중복을 제거하고, 다시 리스트로 만드려면?\n",
        "\n",
        "what = list(set(temp))\n",
        "what"
      ]
    },
    {
      "cell_type": "markdown",
      "metadata": {
        "id": "IbY5ZpFLkArb"
      },
      "source": [
        "<br>\n",
        "\n",
        "#### 4. 조건문과 반복문\n",
        "if, for, while"
      ]
    },
    {
      "cell_type": "markdown",
      "metadata": {
        "id": "XIZU_UUrkArb"
      },
      "source": [
        "#### if"
      ]
    },
    {
      "cell_type": "code",
      "execution_count": null,
      "metadata": {
        "id": "_iakiVWYkArb"
      },
      "outputs": [],
      "source": [
        "def check_price(lunch_price):\n",
        "\n",
        "    price_label = ''\n",
        "\n",
        "    if lunch_price > 10000:\n",
        "        price_label = \"프리미엄 도시락\"\n",
        "    elif lunch_price < 3000:\n",
        "        price_label = \"저렴이 도시락\"\n",
        "    else: # 나머지 조건 모두 받기\n",
        "        price_label = \"무난무난 도시락\"\n",
        "\n",
        "    return price_label"
      ]
    },
    {
      "cell_type": "code",
      "execution_count": null,
      "metadata": {
        "id": "egDWQADdkArb",
        "colab": {
          "base_uri": "https://localhost:8080/",
          "height": 35
        },
        "outputId": "05b76726-4d8d-482b-cdbe-28d00a8b0c4b"
      },
      "outputs": [
        {
          "output_type": "execute_result",
          "data": {
            "text/plain": [
              "'무난무난 도시락'"
            ],
            "application/vnd.google.colaboratory.intrinsic+json": {
              "type": "string"
            }
          },
          "metadata": {},
          "execution_count": 34
        }
      ],
      "source": [
        "check_price(7000)"
      ]
    },
    {
      "cell_type": "code",
      "execution_count": null,
      "metadata": {
        "collapsed": true,
        "id": "6nRymOmgkArb"
      },
      "outputs": [],
      "source": [
        "cage = ['Cat', 'Dog', 'Tiger']"
      ]
    },
    {
      "cell_type": "code",
      "execution_count": null,
      "metadata": {
        "id": "uoGCakF0kArb",
        "outputId": "33d18d8d-0403-4104-b209-6d9f5dad8d16",
        "colab": {
          "base_uri": "https://localhost:8080/"
        }
      },
      "outputs": [
        {
          "output_type": "stream",
          "name": "stdout",
          "text": [
            "야옹아 이리온\n"
          ]
        }
      ],
      "source": [
        "if 'Cat' in cage:  # Key 유무 체크\n",
        "    print('야옹아 이리온')"
      ]
    },
    {
      "cell_type": "code",
      "execution_count": null,
      "metadata": {
        "collapsed": true,
        "id": "U2mXYVwqkArb"
      },
      "outputs": [],
      "source": [
        "cage = {'Cat': '야옹', 'Dog': '멍멍', 'Tiger': '어흥'}"
      ]
    },
    {
      "cell_type": "code",
      "execution_count": null,
      "metadata": {
        "id": "XoiNoTIokArc",
        "outputId": "1aa9ea89-959a-44a3-9eb7-ce0c731a687d",
        "colab": {
          "base_uri": "https://localhost:8080/"
        }
      },
      "outputs": [
        {
          "output_type": "stream",
          "name": "stdout",
          "text": [
            "치와와는 언제와\n"
          ]
        }
      ],
      "source": [
        "if 'Dog' in cage.keys(): # Key 유무 체크\n",
        "    print('치와와는 언제와')"
      ]
    },
    {
      "cell_type": "code",
      "execution_count": null,
      "metadata": {
        "id": "OG7A4X9VkArc",
        "colab": {
          "base_uri": "https://localhost:8080/"
        },
        "outputId": "c7431006-cde0-41c9-c607-ac776a0d0fd0"
      },
      "outputs": [
        {
          "output_type": "stream",
          "name": "stdout",
          "text": [
            "1 is True\n"
          ]
        }
      ],
      "source": [
        "if 1:\n",
        "    print('1 is True')"
      ]
    },
    {
      "cell_type": "markdown",
      "metadata": {
        "id": "Ef9_DG7skArc"
      },
      "source": [
        "#### for"
      ]
    },
    {
      "cell_type": "code",
      "execution_count": null,
      "metadata": {
        "collapsed": true,
        "id": "C0YReJrgkArc"
      },
      "outputs": [],
      "source": [
        "nums = [1, 2, 3, 4, 5]"
      ]
    },
    {
      "cell_type": "code",
      "execution_count": null,
      "metadata": {
        "id": "IFQZK_6DkArc",
        "outputId": "e946c442-6560-4cdb-b0a4-52c3d8bd3a07",
        "colab": {
          "base_uri": "https://localhost:8080/"
        }
      },
      "outputs": [
        {
          "output_type": "stream",
          "name": "stdout",
          "text": [
            "1\n",
            "2\n",
            "3\n",
            "4\n",
            "5\n"
          ]
        }
      ],
      "source": [
        "for number in nums:\n",
        "    print(number)"
      ]
    },
    {
      "cell_type": "code",
      "execution_count": null,
      "metadata": {
        "collapsed": true,
        "execution": {
          "iopub.execute_input": "2020-05-21T05:01:41.290Z",
          "iopub.status.busy": "2020-05-21T05:01:41.246Z",
          "iopub.status.idle": "2020-05-21T05:01:41.329Z",
          "shell.execute_reply": "2020-05-21T05:01:41.108Z"
        },
        "jupyter": {
          "outputs_hidden": false,
          "source_hidden": false
        },
        "nteract": {
          "transient": {
            "deleting": false
          }
        },
        "outputExpanded": false,
        "id": "7k9oPpVBkArc"
      },
      "outputs": [],
      "source": [
        "cage = {'Cat': '야옹', 'Dog': '멍멍', 'Tiger': '어흥'}"
      ]
    },
    {
      "cell_type": "code",
      "execution_count": null,
      "metadata": {
        "execution": {
          "iopub.execute_input": "2020-05-21T05:01:48.480Z",
          "iopub.status.busy": "2020-05-21T05:01:48.446Z",
          "iopub.status.idle": "2020-05-21T05:01:48.569Z",
          "shell.execute_reply": "2020-05-21T05:01:48.604Z"
        },
        "jupyter": {
          "outputs_hidden": false,
          "source_hidden": false
        },
        "nteract": {
          "transient": {
            "deleting": false
          }
        },
        "outputExpanded": false,
        "id": "nJJfdBrmkArd",
        "outputId": "24e10b7c-17f7-46f1-dc19-9fec77f08438",
        "colab": {
          "base_uri": "https://localhost:8080/"
        }
      },
      "outputs": [
        {
          "output_type": "stream",
          "name": "stdout",
          "text": [
            "('Cat', '야옹')\n",
            "('Dog', '멍멍')\n",
            "('Tiger', '어흥')\n"
          ]
        }
      ],
      "source": [
        "for item in cage.items(): # values + keys = items\n",
        "    print(item)"
      ]
    },
    {
      "cell_type": "code",
      "execution_count": null,
      "metadata": {
        "id": "OZfldc4JkArd",
        "colab": {
          "base_uri": "https://localhost:8080/",
          "height": 216
        },
        "outputId": "fc3c1427-b48f-495b-cb86-dd6394aa98d9"
      },
      "outputs": [
        {
          "output_type": "error",
          "ename": "TypeError",
          "evalue": "'list' object is not callable",
          "traceback": [
            "\u001b[0;31m---------------------------------------------------------------------------\u001b[0m",
            "\u001b[0;31mTypeError\u001b[0m                                 Traceback (most recent call last)",
            "\u001b[0;32m<ipython-input-54-466c049cc3dd>\u001b[0m in \u001b[0;36m<cell line: 4>\u001b[0;34m()\u001b[0m\n\u001b[1;32m      3\u001b[0m \u001b[0mlist_of_nums\u001b[0m \u001b[0;34m=\u001b[0m \u001b[0;34m[\u001b[0m\u001b[0;36m121142131512315\u001b[0m\u001b[0;34m,\u001b[0m \u001b[0;36m1241561717265467\u001b[0m\u001b[0;34m,\u001b[0m \u001b[0;36m153462615114151231\u001b[0m\u001b[0;34m,\u001b[0m \u001b[0;36m1634263414616123\u001b[0m\u001b[0;34m,\u001b[0m \u001b[0;36m15236172821568\u001b[0m\u001b[0;34m]\u001b[0m\u001b[0;34m\u001b[0m\u001b[0;34m\u001b[0m\u001b[0m\n\u001b[1;32m      4\u001b[0m \u001b[0;32mfor\u001b[0m \u001b[0mnum\u001b[0m \u001b[0;32min\u001b[0m \u001b[0mrange\u001b[0m\u001b[0;34m(\u001b[0m\u001b[0mlen\u001b[0m\u001b[0;34m(\u001b[0m\u001b[0mlist_of_nums\u001b[0m\u001b[0;34m)\u001b[0m\u001b[0;34m)\u001b[0m\u001b[0;34m:\u001b[0m\u001b[0;34m\u001b[0m\u001b[0;34m\u001b[0m\u001b[0m\n\u001b[0;32m----> 5\u001b[0;31m     \u001b[0;32mif\u001b[0m \u001b[0;34m'14'\u001b[0m \u001b[0;32min\u001b[0m \u001b[0mstr\u001b[0m\u001b[0;34m(\u001b[0m\u001b[0mlist_of_nums\u001b[0m\u001b[0;34m(\u001b[0m\u001b[0mnum\u001b[0m\u001b[0;34m)\u001b[0m\u001b[0;34m)\u001b[0m\u001b[0;34m:\u001b[0m\u001b[0;34m\u001b[0m\u001b[0;34m\u001b[0m\u001b[0m\n\u001b[0m\u001b[1;32m      6\u001b[0m         \u001b[0mprint\u001b[0m\u001b[0;34m(\u001b[0m\u001b[0mlist_of_nums\u001b[0m\u001b[0;34m(\u001b[0m\u001b[0mnum\u001b[0m\u001b[0;34m)\u001b[0m\u001b[0;34m)\u001b[0m\u001b[0;34m\u001b[0m\u001b[0;34m\u001b[0m\u001b[0m\n",
            "\u001b[0;31mTypeError\u001b[0m: 'list' object is not callable"
          ]
        }
      ],
      "source": [
        "# 숫자들의 리스트에서 1과 4가 연속으로 나오는 숫자 찾기\n",
        "\n",
        "list_of_nums = [121142131512315, 1241561717265467, 153462615114151231, 1634263414616123, 15236172821568]\n",
        "for num in range(len(list_of_nums)):\n",
        "    if '14' in str(list_of_nums(num)):\n",
        "        print(list_of_nums(num))"
      ]
    },
    {
      "cell_type": "code",
      "execution_count": null,
      "metadata": {
        "collapsed": true,
        "id": "sloLFZLtkArd",
        "colab": {
          "base_uri": "https://localhost:8080/"
        },
        "outputId": "30a0f303-8d8c-456a-8f90-8696bf10c079"
      },
      "outputs": [
        {
          "output_type": "execute_result",
          "data": {
            "text/plain": [
              "range(0, 5)"
            ]
          },
          "metadata": {},
          "execution_count": 48
        }
      ],
      "source": [
        "range(5) # '범위'를 영어로?"
      ]
    },
    {
      "cell_type": "code",
      "execution_count": null,
      "metadata": {
        "id": "c19x_Wx6kArd",
        "outputId": "0e030dd8-2e68-48a7-86c3-7afb07dddc18",
        "colab": {
          "base_uri": "https://localhost:8080/"
        }
      },
      "outputs": [
        {
          "output_type": "stream",
          "name": "stdout",
          "text": [
            "0\n",
            "1\n",
            "2\n",
            "3\n",
            "4\n"
          ]
        }
      ],
      "source": [
        "for index in range(5):\n",
        "    print(index)"
      ]
    },
    {
      "cell_type": "code",
      "execution_count": null,
      "metadata": {
        "id": "NSuAAlmwkArd"
      },
      "outputs": [],
      "source": [
        "class_1 = ['철수', '영희', '동수'] # 왜 에러가 발생할까요? = class는 지정된 함수?"
      ]
    },
    {
      "cell_type": "code",
      "execution_count": null,
      "metadata": {
        "id": "BVGMWmZ4kArd",
        "colab": {
          "base_uri": "https://localhost:8080/"
        },
        "outputId": "1367d37b-95ed-4591-faa4-004822b6fc6f"
      },
      "outputs": [
        {
          "output_type": "stream",
          "name": "stdout",
          "text": [
            "얘 이름은 철수래요\n",
            "얘 이름은 영희래요\n",
            "얘 이름은 동수래요\n"
          ]
        }
      ],
      "source": [
        "for student in class_1:\n",
        "    print(\"얘 이름은 {}래요\".format(student))"
      ]
    },
    {
      "cell_type": "code",
      "execution_count": null,
      "metadata": {
        "id": "3qkkcyOtkArd",
        "outputId": "a1845d46-3517-4fd0-badc-1f3dbefd098c",
        "colab": {
          "base_uri": "https://localhost:8080/"
        }
      },
      "outputs": [
        {
          "output_type": "stream",
          "name": "stdout",
          "text": [
            "얘 번호는 0번이구요. 이름은 철수래요\n",
            "얘 번호는 1번이구요. 이름은 영희래요\n",
            "얘 번호는 2번이구요. 이름은 동수래요\n"
          ]
        }
      ],
      "source": [
        "# enumerate 배우기\n",
        "\n",
        "for index, student in enumerate(class_1):\n",
        "    print(\"얘 번호는 {}번이구요. 이름은 {}래요\".format(index, student))"
      ]
    },
    {
      "cell_type": "code",
      "execution_count": null,
      "metadata": {
        "id": "W0bCvcnskAre"
      },
      "outputs": [],
      "source": [
        "# for 문의 주된 활용 방식\n",
        "\n",
        "empty_list = []\n",
        "for student in class_1:\n",
        "    empty_list.append('김' + student) # 리스트에 item 추가하기"
      ]
    },
    {
      "cell_type": "code",
      "execution_count": null,
      "metadata": {
        "id": "hdPIhh6gkAre",
        "outputId": "6df7701b-cfec-4547-9840-03d2adf844b5",
        "colab": {
          "base_uri": "https://localhost:8080/"
        }
      },
      "outputs": [
        {
          "output_type": "execute_result",
          "data": {
            "text/plain": [
              "['김철수', '김영희', '김동수']"
            ]
          },
          "metadata": {},
          "execution_count": 67
        }
      ],
      "source": [
        "empty_list"
      ]
    },
    {
      "cell_type": "code",
      "execution_count": null,
      "metadata": {
        "execution": {
          "iopub.execute_input": "2020-05-21T05:03:00.007Z",
          "iopub.status.busy": "2020-05-21T05:02:59.963Z",
          "iopub.status.idle": "2020-05-21T05:03:00.106Z",
          "shell.execute_reply": "2020-05-21T05:03:00.140Z"
        },
        "jupyter": {
          "outputs_hidden": false,
          "source_hidden": false
        },
        "nteract": {
          "transient": {
            "deleting": false
          }
        },
        "outputExpanded": false,
        "id": "74x73cCJkAre",
        "outputId": "be1d470d-7085-4ff7-fd3a-06e8396ebd38",
        "colab": {
          "base_uri": "https://localhost:8080/"
        }
      },
      "outputs": [
        {
          "output_type": "stream",
          "name": "stdout",
          "text": [
            "['this', 'is', 'the', 'sample', 'sentence.', 'sentence', 'is', 'comprised', 'with', 'words.', 'word', 'is', 'a', 'group', 'of', 'charactors.', 'nlp', 'is', 'short', 'for', 'natural', 'language', 'programming.', 'it', 'covers', 'the', 'topics', 'related', 'with', 'real', 'words', '&', 'sentences', 'in', 'language']\n"
          ]
        }
      ],
      "source": [
        "sentence = 'This is the sample sentence. Sentence is comprised with words. Word is a group of charactors. NLP is short for Natural Language Programming. It covers the topics related with real words & sentences in language'\n",
        "words = sentence.lower().split(' ') # 전체 문장을 소문자로 치환 후, 여백(' ')을 기준으로 나눠서 list로 저장\n",
        "print(words)"
      ]
    },
    {
      "cell_type": "code",
      "execution_count": null,
      "metadata": {
        "execution": {
          "iopub.execute_input": "2020-05-21T05:03:49.944Z",
          "iopub.status.busy": "2020-05-21T05:03:49.906Z",
          "iopub.status.idle": "2020-05-21T05:03:50.018Z",
          "shell.execute_reply": "2020-05-21T05:03:50.056Z"
        },
        "jupyter": {
          "outputs_hidden": false,
          "source_hidden": false
        },
        "nteract": {
          "transient": {
            "deleting": false
          }
        },
        "outputExpanded": false,
        "id": "pxBitru5kAre",
        "outputId": "4dc26287-79e5-4489-fcae-3389e813e232",
        "colab": {
          "base_uri": "https://localhost:8080/"
        }
      },
      "outputs": [
        {
          "output_type": "stream",
          "name": "stdout",
          "text": [
            "{'this': 1, 'is': 4, 'the': 2, 'sample': 1, 'sentence.': 1, 'sentence': 1, 'comprised': 1, 'with': 2, 'words.': 1, 'word': 1, 'a': 1, 'group': 1, 'of': 1, 'charactors.': 1, 'nlp': 1, 'short': 1, 'for': 1, 'natural': 1, 'language': 2, 'programming.': 1, 'it': 1, 'covers': 1, 'topics': 1, 'related': 1, 'real': 1, 'words': 1, '&': 1, 'sentences': 1, 'in': 1}\n"
          ]
        }
      ],
      "source": [
        "bag_of_words = {}\n",
        "for word in words:\n",
        "    if word not in bag_of_words: # if a word is not in the list of dict keys,\n",
        "        bag_of_words[word] = 1\n",
        "    else: # if that word is in the list of dict keys,\n",
        "        bag_of_words[word] += 1\n",
        "print(bag_of_words)"
      ]
    },
    {
      "cell_type": "code",
      "execution_count": null,
      "metadata": {
        "execution": {
          "iopub.execute_input": "2020-05-21T05:04:16.397Z",
          "iopub.status.busy": "2020-05-21T05:04:16.362Z",
          "iopub.status.idle": "2020-05-21T05:04:16.471Z",
          "shell.execute_reply": "2020-05-21T05:04:16.505Z"
        },
        "jupyter": {
          "outputs_hidden": false,
          "source_hidden": false
        },
        "nteract": {
          "transient": {
            "deleting": false
          }
        },
        "outputExpanded": false,
        "id": "7mGFy3DEkArf",
        "outputId": "17f3c9ef-2f65-487e-e3c0-0bd62e8d3fe4",
        "colab": {
          "base_uri": "https://localhost:8080/"
        }
      },
      "outputs": [
        {
          "output_type": "stream",
          "name": "stdout",
          "text": [
            "{'this': 1, 'is': 4, 'the': 2, 'sample': 1, 'sentence.': 1, 'sentence': 1, 'comprised': 1, 'with': 2, 'words.': 1, 'word': 1, 'a': 1, 'group': 1, 'of': 1, 'charactors.': 1, 'nlp': 1, 'short': 1, 'for': 1, 'natural': 1, 'language': 2, 'programming.': 1, 'it': 1, 'covers': 1, 'topics': 1, 'related': 1, 'real': 1, 'words': 1, '&': 1, 'sentences': 1, 'in': 1}\n"
          ]
        }
      ],
      "source": [
        "from collections import Counter\n",
        "\n",
        "print(bag_of_words)"
      ]
    },
    {
      "cell_type": "markdown",
      "metadata": {
        "id": "ORIMruiVkArf"
      },
      "source": [
        "#### while"
      ]
    },
    {
      "cell_type": "code",
      "execution_count": null,
      "metadata": {
        "id": "GNfs8fPTkArf",
        "outputId": "df9b57b2-5f68-4cd7-970a-523e28b14ea6",
        "colab": {
          "base_uri": "https://localhost:8080/"
        }
      },
      "outputs": [
        {
          "output_type": "stream",
          "name": "stdout",
          "text": [
            "1\n",
            "2\n",
            "3\n",
            "4\n",
            "5\n",
            "6\n",
            "7\n",
            "8\n",
            "9\n",
            "10\n"
          ]
        }
      ],
      "source": [
        "temp = 1\n",
        "while temp <= 10:\n",
        "    print(temp)\n",
        "    temp = temp + 1 # temp 를 1 증가시켜주려면?"
      ]
    },
    {
      "cell_type": "code",
      "execution_count": null,
      "metadata": {
        "id": "aJNC_2fKkArf",
        "outputId": "03160167-53f0-4fde-99b4-b57610e52215",
        "colab": {
          "base_uri": "https://localhost:8080/",
          "height": 198
        }
      },
      "outputs": [
        {
          "output_type": "error",
          "ename": "KeyboardInterrupt",
          "evalue": "",
          "traceback": [
            "\u001b[0;31m---------------------------------------------------------------------------\u001b[0m",
            "\u001b[0;31mKeyboardInterrupt\u001b[0m                         Traceback (most recent call last)",
            "\u001b[0;32m<ipython-input-75-ea375c839e75>\u001b[0m in \u001b[0;36m<cell line: 3>\u001b[0;34m()\u001b[0m\n\u001b[1;32m      1\u001b[0m \u001b[0;31m# 무한 루프, Pass, Interrupting kernel\u001b[0m\u001b[0;34m\u001b[0m\u001b[0;34m\u001b[0m\u001b[0m\n\u001b[1;32m      2\u001b[0m \u001b[0;34m\u001b[0m\u001b[0m\n\u001b[0;32m----> 3\u001b[0;31m \u001b[0;32mwhile\u001b[0m \u001b[0;32mTrue\u001b[0m\u001b[0;34m:\u001b[0m\u001b[0;34m\u001b[0m\u001b[0;34m\u001b[0m\u001b[0m\n\u001b[0m\u001b[1;32m      4\u001b[0m     \u001b[0;32mpass\u001b[0m\u001b[0;34m\u001b[0m\u001b[0;34m\u001b[0m\u001b[0m\n",
            "\u001b[0;31mKeyboardInterrupt\u001b[0m: "
          ]
        }
      ],
      "source": [
        "# 무한 루프, Pass, Interrupting kernel\n",
        "\n",
        "while True:\n",
        "    pass"
      ]
    },
    {
      "cell_type": "code",
      "execution_count": null,
      "metadata": {
        "id": "beHaZ9ZZkArf",
        "outputId": "4fa7d51d-6f1d-4805-dad0-e933bc2ac1e9",
        "colab": {
          "base_uri": "https://localhost:8080/"
        }
      },
      "outputs": [
        {
          "output_type": "stream",
          "name": "stdout",
          "text": [
            "0\n",
            "1\n",
            "2\n",
            "3\n",
            "4\n"
          ]
        }
      ],
      "source": [
        "idx = 0\n",
        "while True:\n",
        "    if idx >= 5:\n",
        "        break\n",
        "    else:\n",
        "        print(idx)\n",
        "        idx += 1"
      ]
    },
    {
      "cell_type": "code",
      "execution_count": null,
      "metadata": {
        "id": "5nvRjgTlkArf",
        "outputId": "111044e0-d2e5-4837-9f8e-119b34b48ee6",
        "colab": {
          "base_uri": "https://localhost:8080/"
        }
      },
      "outputs": [
        {
          "output_type": "stream",
          "name": "stdout",
          "text": [
            "0\n",
            "1\n",
            "2\n",
            "3\n",
            "4\n"
          ]
        }
      ],
      "source": [
        "idx = 0\n",
        "while 1:\n",
        "    if idx >= 5:\n",
        "        break\n",
        "    else:\n",
        "        print(idx)\n",
        "        idx += 1"
      ]
    },
    {
      "cell_type": "code",
      "execution_count": null,
      "metadata": {
        "collapsed": true,
        "id": "FaH9jGzBkArf"
      },
      "outputs": [],
      "source": [
        "# Quiz 4. 점수(0~100)를 입력으로 받아 학점을 출력해주는 함수 grade를 만드세요."
      ]
    },
    {
      "cell_type": "code",
      "execution_count": null,
      "metadata": {
        "collapsed": true,
        "id": "ALDUL8rbkArg"
      },
      "outputs": [],
      "source": [
        "def grade(score):\n",
        "\n",
        "  if score >= 90:\n",
        "    grade_ = \"A\"\n",
        "  elif score >= 80:\n",
        "    grade_ = \"B\"\n",
        "  else:\n",
        "    grade_ = \"C\"\n",
        "\n",
        "  return grade_\n",
        "\n"
      ]
    },
    {
      "cell_type": "code",
      "execution_count": null,
      "metadata": {
        "id": "K7rwxGvPkArg",
        "outputId": "1664c841-0f33-43d2-dbc3-32bc4e9f1e8e",
        "colab": {
          "base_uri": "https://localhost:8080/",
          "height": 35
        }
      },
      "outputs": [
        {
          "output_type": "execute_result",
          "data": {
            "text/plain": [
              "'B'"
            ],
            "application/vnd.google.colaboratory.intrinsic+json": {
              "type": "string"
            }
          },
          "metadata": {},
          "execution_count": 92
        }
      ],
      "source": [
        "grade(87)"
      ]
    },
    {
      "cell_type": "code",
      "execution_count": null,
      "metadata": {
        "collapsed": true,
        "id": "o-5Bh631kArg"
      },
      "outputs": [],
      "source": [
        "# Quiz 5. 3개의 숫자를 입력으로 받아, 가장 큰 수를 출력하는 함수 best 를 만드세요. (Hint. 리스트와 sort()를 활용해보세요.)"
      ]
    },
    {
      "cell_type": "code",
      "execution_count": null,
      "metadata": {
        "id": "-GRAvGZgkArg"
      },
      "outputs": [],
      "source": [
        "def best(num1, num2, num3):\n",
        "\n",
        "  number_lst = [num1, num2, num3]\n",
        "  number_lst.sort(reverse=True)\n",
        "\n",
        "\n",
        "\n",
        "  return number_lst[0]"
      ]
    },
    {
      "cell_type": "code",
      "execution_count": null,
      "metadata": {
        "id": "Riy4W1q8kArg",
        "outputId": "f0310e52-ee3c-4973-85e9-9255ed1a4b96",
        "colab": {
          "base_uri": "https://localhost:8080/"
        }
      },
      "outputs": [
        {
          "output_type": "execute_result",
          "data": {
            "text/plain": [
              "100"
            ]
          },
          "metadata": {},
          "execution_count": 2
        }
      ],
      "source": [
        "best(20, 100, 60)"
      ]
    },
    {
      "cell_type": "code",
      "execution_count": null,
      "metadata": {
        "collapsed": true,
        "id": "8UTZqd8dkArg"
      },
      "outputs": [],
      "source": [
        "# Quiz 6. 숫자 하나를 입력받아, 홀수면 \"odd\", 짝수면 \"even\"을 출력하는 함수 odd_or_even을 만드세요. (나머지 연산 명령어는?)"
      ]
    },
    {
      "cell_type": "code",
      "execution_count": null,
      "metadata": {
        "collapsed": true,
        "id": "OwUzXF0VkArg"
      },
      "outputs": [],
      "source": [
        "def odd_or_even(num1):\n",
        "  if num1%2 == 1:\n",
        "    idf = \"odd\"\n",
        "  elif num1%2 ==0:\n",
        "    idf = \"even\"\n",
        "  else :\n",
        "    idf = \"숫자를 다시 입력해주세요!\"\n",
        "\n",
        "  return idf\n",
        "\n"
      ]
    },
    {
      "cell_type": "code",
      "execution_count": null,
      "metadata": {
        "id": "yazNjYR9kArg",
        "outputId": "bed48c63-8fb9-48f9-ecc8-d4313ea93234",
        "colab": {
          "base_uri": "https://localhost:8080/",
          "height": 35
        }
      },
      "outputs": [
        {
          "output_type": "execute_result",
          "data": {
            "text/plain": [
              "'odd'"
            ],
            "application/vnd.google.colaboratory.intrinsic+json": {
              "type": "string"
            }
          },
          "metadata": {},
          "execution_count": 4
        }
      ],
      "source": [
        "odd_or_even(9)"
      ]
    },
    {
      "cell_type": "code",
      "execution_count": null,
      "metadata": {
        "collapsed": true,
        "id": "znQzcZ1jkArh"
      },
      "outputs": [],
      "source": [
        "# Quiz 7. \"20180323sunny\" 와 같은 문자열을 입력받아, \"Year is 2018, Day is 0323, Weather is sunny\" 를 출력하는 함수 weather를 만드세요."
      ]
    },
    {
      "cell_type": "code",
      "execution_count": null,
      "metadata": {
        "collapsed": true,
        "id": "PjeFIFuWkArh"
      },
      "outputs": [],
      "source": [
        "def weather(text):\n",
        "    Year = text[0:4]\n",
        "    Day = text[4:8]\n",
        "    Weather = text[8:]\n",
        "\n",
        "\n",
        "\n",
        "\n",
        "    # 결과 출력\n",
        "    print(\"Year is {}, Day is {}, Weather is {}\".format(Year, Day, Weather))"
      ]
    },
    {
      "cell_type": "code",
      "execution_count": null,
      "metadata": {
        "id": "MrLLlfEQkArh",
        "outputId": "ea5f19d6-f04f-49e0-f28e-62fa689f674c",
        "colab": {
          "base_uri": "https://localhost:8080/"
        }
      },
      "outputs": [
        {
          "output_type": "stream",
          "name": "stdout",
          "text": [
            "Year is 2018, Day is 0323, Weather is still cold\n"
          ]
        }
      ],
      "source": [
        "weather('20180323still cold')"
      ]
    },
    {
      "cell_type": "markdown",
      "metadata": {
        "id": "oyezroKHkArh"
      },
      "source": [
        "<br>\n",
        "\n",
        "#### 5. 파일 읽고 쓰기"
      ]
    },
    {
      "cell_type": "markdown",
      "metadata": {
        "id": "Nr1bRPJckArh"
      },
      "source": [
        "#### 파일 쓰기"
      ]
    },
    {
      "cell_type": "code",
      "execution_count": null,
      "metadata": {
        "collapsed": true,
        "id": "bI23-jMzkAri"
      },
      "outputs": [],
      "source": [
        "file = open('cage.txt', 'w', encoding='utf-8') # '열다'를 영어로? & w/r/a"
      ]
    },
    {
      "cell_type": "code",
      "execution_count": null,
      "metadata": {
        "collapsed": true,
        "id": "4Bahax1mkAri"
      },
      "outputs": [],
      "source": [
        "cage = ['Cat', 'Dog', 'Tiger']"
      ]
    },
    {
      "cell_type": "code",
      "source": [
        "for i in cage:\n",
        "    file.write(i)"
      ],
      "metadata": {
        "id": "w9sr3fYwaq6F"
      },
      "execution_count": null,
      "outputs": []
    },
    {
      "cell_type": "code",
      "execution_count": null,
      "metadata": {
        "collapsed": true,
        "id": "Dme8apvGkAri"
      },
      "outputs": [],
      "source": [
        "file.close() # open & write & close"
      ]
    },
    {
      "cell_type": "code",
      "execution_count": null,
      "metadata": {
        "id": "FUYX1RI9kAri"
      },
      "outputs": [],
      "source": [
        "# close를 안쓰려면?\n"
      ]
    },
    {
      "cell_type": "code",
      "execution_count": null,
      "metadata": {
        "collapsed": true,
        "id": "N5XMUk6TkAri"
      },
      "outputs": [],
      "source": [
        "# file.write(cage) 대신,\n",
        "file = open('cage.txt', 'w', encoding='utf-8') # '열다'를 영어로? & w/r/a\n",
        "\n",
        "for animal in cage:\n",
        "    file.write(animal + '\\t') # \\t 로 바꿔서도 실행해보세요\n",
        "\n",
        "file.close()"
      ]
    },
    {
      "cell_type": "code",
      "execution_count": null,
      "metadata": {
        "id": "_CdD2iSakAri"
      },
      "outputs": [],
      "source": [
        "# file = open('cage.txt', 'w', encoding='utf-8')\n",
        "# file.writelines(cage)\n",
        "# file.close()"
      ]
    },
    {
      "cell_type": "code",
      "execution_count": null,
      "metadata": {
        "collapsed": true,
        "id": "e4X8f8DpkAri"
      },
      "outputs": [],
      "source": [
        "# 자동으로 파일 닫기 (convention)\n",
        "\n",
        "with open('cage.txt', 'w', encoding='utf-8') as file: # '함께', '~와 같이' 를 영어로?\n",
        "    for animal in cage:\n",
        "        file.write(animal + '\\n')"
      ]
    },
    {
      "cell_type": "markdown",
      "metadata": {
        "id": "gFX2KLBVkArj"
      },
      "source": [
        "#### 파일 읽기"
      ]
    },
    {
      "cell_type": "code",
      "execution_count": null,
      "metadata": {
        "collapsed": true,
        "id": "kBVJC5tvkArj"
      },
      "outputs": [],
      "source": [
        "file = open('cage.txt', \"r\", encoding='utf-8') # 읽기 모드"
      ]
    },
    {
      "cell_type": "code",
      "source": [
        "from google.colab import drive\n",
        "drive.mount('/content/drive')"
      ],
      "metadata": {
        "colab": {
          "base_uri": "https://localhost:8080/"
        },
        "id": "b6eFIPMhj2-n",
        "outputId": "c0efc508-c81f-4a13-cd01-59ac2f120da7"
      },
      "execution_count": null,
      "outputs": [
        {
          "output_type": "stream",
          "name": "stdout",
          "text": [
            "Mounted at /content/drive\n"
          ]
        }
      ]
    },
    {
      "cell_type": "code",
      "execution_count": null,
      "metadata": {
        "id": "fWVHOWKGkArj",
        "colab": {
          "base_uri": "https://localhost:8080/"
        },
        "outputId": "85aefbad-b888-4076-f77a-b8ab3947d663"
      },
      "outputs": [
        {
          "output_type": "execute_result",
          "data": {
            "text/plain": [
              "['Cat\\n', 'Dog\\n', 'Tiger\\n']"
            ]
          },
          "metadata": {},
          "execution_count": 15
        }
      ],
      "source": [
        "cage = file.readlines() # 여러줄 한번에 읽어서 리스트에 담기 (Shift+Tap 을 사용해보세요!)\n",
        "cage"
      ]
    },
    {
      "cell_type": "code",
      "execution_count": null,
      "metadata": {
        "id": "Jmh6ysiukArj",
        "colab": {
          "base_uri": "https://localhost:8080/"
        },
        "outputId": "00ae8ccb-03e9-4649-b682-aa0021e3c94d"
      },
      "outputs": [
        {
          "output_type": "stream",
          "name": "stdout",
          "text": [
            "Cat\n",
            "\n"
          ]
        }
      ],
      "source": [
        "print(cage[0])"
      ]
    },
    {
      "cell_type": "markdown",
      "metadata": {
        "id": "I7hWkowikArj"
      },
      "source": [
        "<br>\n",
        "\n",
        "#### 6. 클래스"
      ]
    },
    {
      "cell_type": "markdown",
      "metadata": {
        "id": "TWtCdpazkArj"
      },
      "source": [
        "![image.png](attachment:image.png)\n",
        "<p style='margin-left:42%;'>(from http://j.mp/32FkRhd)</p>"
      ]
    },
    {
      "cell_type": "code",
      "execution_count": 1,
      "metadata": {
        "collapsed": true,
        "id": "l4cdNzZ3kArj"
      },
      "outputs": [],
      "source": [
        "class Cage: # 클래스 X를 상속할 때에는 : class Cage(X):\n",
        "\n",
        "    def print_something():\n",
        "        print(\"This is something!\")"
      ]
    },
    {
      "cell_type": "code",
      "execution_count": 2,
      "metadata": {
        "collapsed": true,
        "id": "pFH9EWDHkArj"
      },
      "outputs": [],
      "source": [
        "cage_1 = Cage()"
      ]
    },
    {
      "cell_type": "code",
      "execution_count": 3,
      "metadata": {
        "id": "K8s0hm1_kArk",
        "outputId": "a44481ce-a361-492b-c271-3a060529c440",
        "colab": {
          "base_uri": "https://localhost:8080/",
          "height": 144
        }
      },
      "outputs": [
        {
          "output_type": "error",
          "ename": "TypeError",
          "evalue": "Cage.print_something() takes 0 positional arguments but 1 was given",
          "traceback": [
            "\u001b[0;31m---------------------------------------------------------------------------\u001b[0m",
            "\u001b[0;31mTypeError\u001b[0m                                 Traceback (most recent call last)",
            "\u001b[0;32m<ipython-input-3-4960313c78b1>\u001b[0m in \u001b[0;36m<cell line: 1>\u001b[0;34m()\u001b[0m\n\u001b[0;32m----> 1\u001b[0;31m \u001b[0mcage_1\u001b[0m\u001b[0;34m.\u001b[0m\u001b[0mprint_something\u001b[0m\u001b[0;34m(\u001b[0m\u001b[0;34m)\u001b[0m\u001b[0;34m\u001b[0m\u001b[0;34m\u001b[0m\u001b[0m\n\u001b[0m",
            "\u001b[0;31mTypeError\u001b[0m: Cage.print_something() takes 0 positional arguments but 1 was given"
          ]
        }
      ],
      "source": [
        "cage_1.print_something()"
      ]
    },
    {
      "cell_type": "code",
      "execution_count": 4,
      "metadata": {
        "collapsed": true,
        "id": "7MD9LF65kArk"
      },
      "outputs": [],
      "source": [
        "class Cage:\n",
        "\n",
        "    # 클래스 선언 후 객체가 메소드를 호출할 때 메소드를 호출한 객체 자신이 첫번째 인자로 함께 전달된다.\n",
        "    def print_something(self):\n",
        "        print(\"This is something!\")"
      ]
    },
    {
      "cell_type": "code",
      "execution_count": 5,
      "metadata": {
        "collapsed": true,
        "id": "Zta-0IxAkArk"
      },
      "outputs": [],
      "source": [
        "cage_1 = Cage()"
      ]
    },
    {
      "cell_type": "code",
      "execution_count": 6,
      "metadata": {
        "id": "aqGSaN7kkArk",
        "outputId": "a2d45d96-4a46-4863-e8c7-157497d2838e",
        "colab": {
          "base_uri": "https://localhost:8080/"
        }
      },
      "outputs": [
        {
          "output_type": "stream",
          "name": "stdout",
          "text": [
            "This is something!\n"
          ]
        }
      ],
      "source": [
        "cage_1.print_something() # 메소드 호출, check_animals 메소드를 호출한 객체 cage_1 이 자동으로 self에 전달된다."
      ]
    },
    {
      "cell_type": "markdown",
      "metadata": {
        "id": "QM-4N6-PkArk"
      },
      "source": [
        "![image.png](attachment:image.png)"
      ]
    },
    {
      "cell_type": "code",
      "execution_count": 7,
      "metadata": {
        "collapsed": true,
        "id": "E4HY-VazkArk"
      },
      "outputs": [],
      "source": [
        "# 클래스를 따라 객체변수를 만들 때 처음부터 데이터가 담겨있기를 원한다면?\n",
        "\n",
        "class Cage:\n",
        "\n",
        "    # 생성자(Constructor), 클래스라는 설계도를 따라 객체를 만들 때 초기화값\n",
        "    def __init__(self):\n",
        "        self.animals = ['Cat', 'Dog', 'Tiger']\n",
        "\n",
        "    def check_animals(self):\n",
        "        print(self.animals) # self 키워드를 통해 함수의 scope를 뛰어넘어 접근이 가능합니다."
      ]
    },
    {
      "cell_type": "code",
      "execution_count": 8,
      "metadata": {
        "id": "998FHVFukArk",
        "outputId": "2def560d-6a1f-4184-dd43-bef28735d1fd",
        "colab": {
          "base_uri": "https://localhost:8080/"
        }
      },
      "outputs": [
        {
          "output_type": "execute_result",
          "data": {
            "text/plain": [
              "<__main__.Cage at 0x7aeac5c1cb80>"
            ]
          },
          "metadata": {},
          "execution_count": 8
        }
      ],
      "source": [
        "cage_1 = Cage() # 생성자 호출\n",
        "cage_1"
      ]
    },
    {
      "cell_type": "code",
      "execution_count": 9,
      "metadata": {
        "id": "ZyHktpmPkArl",
        "outputId": "2217c909-2ea7-4902-e269-7f1ab0adac92",
        "colab": {
          "base_uri": "https://localhost:8080/"
        }
      },
      "outputs": [
        {
          "output_type": "stream",
          "name": "stdout",
          "text": [
            "['Cat', 'Dog', 'Tiger']\n"
          ]
        }
      ],
      "source": [
        "cage_1.check_animals()"
      ]
    },
    {
      "cell_type": "code",
      "execution_count": 10,
      "metadata": {
        "collapsed": true,
        "id": "Ie3SBJrbkArl"
      },
      "outputs": [],
      "source": [
        "class Cage:\n",
        "\n",
        "    def __init__(self):\n",
        "        self.animals = ['Cat', 'Dog', 'Tiger']\n",
        "\n",
        "    def check_animals(self):\n",
        "        print(self.animals)\n",
        "\n",
        "    def plus_animal(self, animal):\n",
        "        self.animals.append(animal) # 리스트에 item 추가하기?\n",
        "        print(self.animals)"
      ]
    },
    {
      "cell_type": "code",
      "execution_count": 11,
      "metadata": {
        "id": "VUH60w0wkArl",
        "outputId": "381edf2d-9368-4321-c08d-44472c74bed4",
        "colab": {
          "base_uri": "https://localhost:8080/"
        }
      },
      "outputs": [
        {
          "output_type": "execute_result",
          "data": {
            "text/plain": [
              "<__main__.Cage at 0x7aeac5c1c550>"
            ]
          },
          "metadata": {},
          "execution_count": 11
        }
      ],
      "source": [
        "cage_2 = Cage()\n",
        "cage_2"
      ]
    },
    {
      "cell_type": "code",
      "execution_count": 12,
      "metadata": {
        "id": "Fm_BuD9rkArl",
        "outputId": "b8489a72-f698-4054-ea1c-1070879d5ded",
        "colab": {
          "base_uri": "https://localhost:8080/"
        }
      },
      "outputs": [
        {
          "output_type": "stream",
          "name": "stdout",
          "text": [
            "['Cat', 'Dog', 'Tiger', 'Pig']\n"
          ]
        }
      ],
      "source": [
        "cage_2.plus_animal('Pig')"
      ]
    },
    {
      "cell_type": "code",
      "execution_count": 13,
      "metadata": {
        "id": "ytDX5zIckArl"
      },
      "outputs": [],
      "source": [
        "class Cage:\n",
        "\n",
        "    def __init__(self, name='SampleCage'):\n",
        "        self.instance_name = name\n",
        "        self.animals = ['Cat', 'Dog', 'Tiger']\n",
        "\n",
        "    def check_animals(self):\n",
        "        print(self.animals)\n",
        "\n",
        "    def plus_animal(self, animal):\n",
        "        self.animals.append(animal)\n",
        "        print(self.animals)\n",
        "\n",
        "    def __str__(self):\n",
        "        return self.instance_name"
      ]
    },
    {
      "cell_type": "code",
      "execution_count": 14,
      "metadata": {
        "id": "lbWW1l2wkArl",
        "outputId": "1662a6e1-e036-4f3e-f7c5-21bdf90f91ac",
        "colab": {
          "base_uri": "https://localhost:8080/"
        }
      },
      "outputs": [
        {
          "output_type": "stream",
          "name": "stdout",
          "text": [
            "FirstCage\n"
          ]
        }
      ],
      "source": [
        "cage_1 = Cage('FirstCage')\n",
        "print(cage_1)"
      ]
    },
    {
      "cell_type": "markdown",
      "metadata": {
        "id": "Wa7h7WuekArl"
      },
      "source": [
        "#### Pass (why we need 'self')"
      ]
    },
    {
      "cell_type": "code",
      "execution_count": 15,
      "metadata": {
        "id": "m1ZgfVorkArm",
        "outputId": "26cb567c-37f3-4d19-bda1-5fa0a6330a99",
        "colab": {
          "base_uri": "https://localhost:8080/"
        }
      },
      "outputs": [
        {
          "output_type": "stream",
          "name": "stdout",
          "text": [
            "['Cat', 'Dog', 'Tiger']\n"
          ]
        }
      ],
      "source": [
        "Cage.check_animals(cage_1) # == cage1.check_animals() -> cage_1 객체를 check_animals()에게 인자로 던져주는 것"
      ]
    },
    {
      "cell_type": "code",
      "execution_count": 16,
      "metadata": {
        "id": "33M2IrExkArp",
        "outputId": "e9fb5982-f96e-43b5-c2fc-197d3bd5e98a",
        "colab": {
          "base_uri": "https://localhost:8080/"
        }
      },
      "outputs": [
        {
          "output_type": "stream",
          "name": "stdout",
          "text": [
            "['Cat', 'Dog', 'Tiger', 'Pig']\n"
          ]
        }
      ],
      "source": [
        "Cage.check_animals(cage_2) # == cage2.check_animals()"
      ]
    },
    {
      "cell_type": "code",
      "execution_count": null,
      "metadata": {
        "collapsed": true,
        "id": "o8bLbQsykArp"
      },
      "outputs": [],
      "source": [
        "# 사실 cage_1.check_animals()를 실행하면\n",
        "# 백그라운드에서는 Cage.check_animals(chech_1) 이 실행되는 것\n",
        "# 이 때 클래스 Cage 가 어떤 객체(instance)의 메소드를 호출해야하는지 모르기 때문에 객체를 인자로 전달해줘야 한다."
      ]
    },
    {
      "cell_type": "markdown",
      "metadata": {
        "id": "tqktzTm_kArp"
      },
      "source": [
        "<br>\n",
        "\n",
        "#### 7. Python 기본 내장함수와 외장함수"
      ]
    },
    {
      "cell_type": "code",
      "execution_count": 18,
      "metadata": {
        "id": "0mqHSfh3kArp",
        "outputId": "25a6d9be-6902-4c0c-da6d-f71c7489b6fe",
        "colab": {
          "base_uri": "https://localhost:8080/"
        }
      },
      "outputs": [
        {
          "output_type": "execute_result",
          "data": {
            "text/plain": [
              "6"
            ]
          },
          "metadata": {},
          "execution_count": 18
        }
      ],
      "source": [
        "len('Python') # 길이?"
      ]
    },
    {
      "cell_type": "code",
      "execution_count": 19,
      "metadata": {
        "id": "hwo6E_0JkArq",
        "outputId": "a5193192-395c-417f-cdcf-64958e49c9bc",
        "colab": {
          "base_uri": "https://localhost:8080/"
        }
      },
      "outputs": [
        {
          "output_type": "execute_result",
          "data": {
            "text/plain": [
              "['P', 'y', 't', 'h', 'o', 'n']"
            ]
          },
          "metadata": {},
          "execution_count": 19
        }
      ],
      "source": [
        "list('Python')"
      ]
    },
    {
      "cell_type": "code",
      "execution_count": 20,
      "metadata": {
        "id": "q-PVq-pPkArq",
        "outputId": "79237f26-fb96-4c2d-cf1f-f900b002b7ff",
        "colab": {
          "base_uri": "https://localhost:8080/"
        }
      },
      "outputs": [
        {
          "output_type": "execute_result",
          "data": {
            "text/plain": [
              "['__add__',\n",
              " '__class__',\n",
              " '__contains__',\n",
              " '__delattr__',\n",
              " '__dir__',\n",
              " '__doc__',\n",
              " '__eq__',\n",
              " '__format__',\n",
              " '__ge__',\n",
              " '__getattribute__',\n",
              " '__getitem__',\n",
              " '__getnewargs__',\n",
              " '__gt__',\n",
              " '__hash__',\n",
              " '__init__',\n",
              " '__init_subclass__',\n",
              " '__iter__',\n",
              " '__le__',\n",
              " '__len__',\n",
              " '__lt__',\n",
              " '__mod__',\n",
              " '__mul__',\n",
              " '__ne__',\n",
              " '__new__',\n",
              " '__reduce__',\n",
              " '__reduce_ex__',\n",
              " '__repr__',\n",
              " '__rmod__',\n",
              " '__rmul__',\n",
              " '__setattr__',\n",
              " '__sizeof__',\n",
              " '__str__',\n",
              " '__subclasshook__',\n",
              " 'capitalize',\n",
              " 'casefold',\n",
              " 'center',\n",
              " 'count',\n",
              " 'encode',\n",
              " 'endswith',\n",
              " 'expandtabs',\n",
              " 'find',\n",
              " 'format',\n",
              " 'format_map',\n",
              " 'index',\n",
              " 'isalnum',\n",
              " 'isalpha',\n",
              " 'isascii',\n",
              " 'isdecimal',\n",
              " 'isdigit',\n",
              " 'isidentifier',\n",
              " 'islower',\n",
              " 'isnumeric',\n",
              " 'isprintable',\n",
              " 'isspace',\n",
              " 'istitle',\n",
              " 'isupper',\n",
              " 'join',\n",
              " 'ljust',\n",
              " 'lower',\n",
              " 'lstrip',\n",
              " 'maketrans',\n",
              " 'partition',\n",
              " 'removeprefix',\n",
              " 'removesuffix',\n",
              " 'replace',\n",
              " 'rfind',\n",
              " 'rindex',\n",
              " 'rjust',\n",
              " 'rpartition',\n",
              " 'rsplit',\n",
              " 'rstrip',\n",
              " 'split',\n",
              " 'splitlines',\n",
              " 'startswith',\n",
              " 'strip',\n",
              " 'swapcase',\n",
              " 'title',\n",
              " 'translate',\n",
              " 'upper',\n",
              " 'zfill']"
            ]
          },
          "metadata": {},
          "execution_count": 20
        }
      ],
      "source": [
        "dir('Python') # (여기서는 string) 객체가 자체적으로 가지고 있는 변수나 함수\n",
        "# \"Python\"은 'str'이라는 데이터타입(클래스)이 만들어낸 객체이며 'str' 데이터타입(클래스)에 정의된 모든 속성(객체변수)과 메소드를 상속 받음"
      ]
    },
    {
      "cell_type": "code",
      "execution_count": 21,
      "metadata": {
        "id": "GTW2orT6kArq",
        "outputId": "7d04b938-e2e7-4947-c8e5-e2e066d2eec4",
        "colab": {
          "base_uri": "https://localhost:8080/"
        }
      },
      "outputs": [
        {
          "output_type": "stream",
          "name": "stdout",
          "text": [
            "ElasticNetCV\n",
            "LarsCV\n",
            "LassoCV\n",
            "LassoLarsCV\n",
            "LogisticRegressionCV\n",
            "MultiTaskElasticNetCV\n",
            "MultiTaskLassoCV\n",
            "OrthogonalMatchingPursuitCV\n",
            "RidgeCV\n",
            "RidgeClassifierCV\n"
          ]
        }
      ],
      "source": [
        "from sklearn import linear_model\n",
        "\n",
        "for name_space in dir(linear_model):\n",
        "    if 'CV' in name_space:\n",
        "        print(name_space)"
      ]
    },
    {
      "cell_type": "code",
      "execution_count": 28,
      "metadata": {
        "id": "oq6QdzLnkArq",
        "outputId": "34d309d0-8b8e-4668-f687-c56aa0d18a2a",
        "colab": {
          "base_uri": "https://localhost:8080/"
        }
      },
      "outputs": [
        {
          "output_type": "execute_result",
          "data": {
            "text/plain": [
              "1.2"
            ]
          },
          "metadata": {},
          "execution_count": 28
        }
      ],
      "source": [
        "abs(-1.2) # '절대값'의 앞 3글자"
      ]
    },
    {
      "cell_type": "code",
      "execution_count": 27,
      "metadata": {
        "id": "3vqi3_MqkArr",
        "outputId": "8e53c30d-ae37-43d8-fa63-ed3b3d7cc826",
        "colab": {
          "base_uri": "https://localhost:8080/"
        }
      },
      "outputs": [
        {
          "output_type": "execute_result",
          "data": {
            "text/plain": [
              "2"
            ]
          },
          "metadata": {},
          "execution_count": 27
        }
      ],
      "source": [
        "round(1.7) # 반올림"
      ]
    },
    {
      "cell_type": "code",
      "execution_count": 26,
      "metadata": {
        "id": "4PB3Mg4ikArr",
        "outputId": "ab4386b7-fe97-45b4-b19c-31f6baa008df",
        "colab": {
          "base_uri": "https://localhost:8080/"
        }
      },
      "outputs": [
        {
          "output_type": "execute_result",
          "data": {
            "text/plain": [
              "True"
            ]
          },
          "metadata": {},
          "execution_count": 26
        }
      ],
      "source": [
        "bool(1) # 참/거짓 판별"
      ]
    },
    {
      "cell_type": "code",
      "execution_count": 25,
      "metadata": {
        "id": "lNL6RZLXkArr",
        "outputId": "20d8ffb6-a58c-466b-b478-e5745067eabd",
        "colab": {
          "base_uri": "https://localhost:8080/"
        }
      },
      "outputs": [
        {
          "output_type": "execute_result",
          "data": {
            "text/plain": [
              "6"
            ]
          },
          "metadata": {},
          "execution_count": 25
        }
      ],
      "source": [
        "sum([1, 2, 3]) # 합"
      ]
    },
    {
      "cell_type": "code",
      "execution_count": 22,
      "metadata": {
        "id": "sJfB7ZaukArr",
        "outputId": "2d11edbf-8bb8-40b9-d7e2-a568b12ded55",
        "colab": {
          "base_uri": "https://localhost:8080/"
        }
      },
      "outputs": [
        {
          "output_type": "execute_result",
          "data": {
            "text/plain": [
              "3"
            ]
          },
          "metadata": {},
          "execution_count": 22
        }
      ],
      "source": [
        "max([1, 2, 3]) # 최대값"
      ]
    },
    {
      "cell_type": "code",
      "execution_count": 23,
      "metadata": {
        "id": "nRR1xw9ikArr",
        "outputId": "108df04f-3cc1-4d76-a241-59fc2baf671c",
        "colab": {
          "base_uri": "https://localhost:8080/"
        }
      },
      "outputs": [
        {
          "output_type": "execute_result",
          "data": {
            "text/plain": [
              "1"
            ]
          },
          "metadata": {},
          "execution_count": 23
        }
      ],
      "source": [
        "min([1, 2, 3]) # 최소값"
      ]
    },
    {
      "cell_type": "code",
      "execution_count": 29,
      "metadata": {
        "execution": {
          "iopub.execute_input": "2020-05-21T05:07:36.503Z",
          "iopub.status.busy": "2020-05-21T05:07:36.463Z",
          "iopub.status.idle": "2020-05-21T05:07:36.587Z",
          "shell.execute_reply": "2020-05-21T05:07:36.623Z"
        },
        "jupyter": {
          "outputs_hidden": false,
          "source_hidden": false
        },
        "nteract": {
          "transient": {
            "deleting": false
          }
        },
        "outputExpanded": false,
        "id": "Qb_Z1zz5kArr",
        "outputId": "7185f7db-f889-4a1d-b704-f906e1f3d28f",
        "colab": {
          "base_uri": "https://localhost:8080/"
        }
      },
      "outputs": [
        {
          "output_type": "execute_result",
          "data": {
            "text/plain": [
              "[0, 10, 20, 30, 40, 50, 60, 70, 80, 90]"
            ]
          },
          "metadata": {},
          "execution_count": 29
        }
      ],
      "source": [
        "list(range(0, 100, 10)) # 0부터 100까지 10씩 증가"
      ]
    },
    {
      "cell_type": "code",
      "execution_count": 32,
      "metadata": {
        "collapsed": true,
        "id": "Mqkk86Q6kArr"
      },
      "outputs": [],
      "source": [
        "def func(x):\n",
        "    return x**2 #제곱 연산자"
      ]
    },
    {
      "cell_type": "code",
      "execution_count": 33,
      "metadata": {
        "id": "Wxo8j5QzkArs",
        "outputId": "ec63269d-71fe-4000-a45c-3614c50e51af",
        "colab": {
          "base_uri": "https://localhost:8080/"
        }
      },
      "outputs": [
        {
          "output_type": "execute_result",
          "data": {
            "text/plain": [
              "25"
            ]
          },
          "metadata": {},
          "execution_count": 33
        }
      ],
      "source": [
        "func(5)"
      ]
    },
    {
      "cell_type": "code",
      "execution_count": null,
      "metadata": {
        "collapsed": true,
        "id": "K1odAvVbkArs"
      },
      "outputs": [],
      "source": [
        "# x(input) 를 받아 x**2(output) 를 return 해주는 람다 함수\n",
        "\n"
      ]
    },
    {
      "cell_type": "code",
      "execution_count": 34,
      "metadata": {
        "id": "4uqaWiLQkArs",
        "outputId": "548ad238-a963-4b72-c005-882fb815a415",
        "colab": {
          "base_uri": "https://localhost:8080/"
        }
      },
      "outputs": [
        {
          "output_type": "execute_result",
          "data": {
            "text/plain": [
              "25"
            ]
          },
          "metadata": {},
          "execution_count": 34
        }
      ],
      "source": [
        "func(5)"
      ]
    },
    {
      "cell_type": "markdown",
      "metadata": {
        "id": "MocJZjzpkArs"
      },
      "source": [
        "<br>\n",
        "\n",
        "#### 8. 라이브러리 활용하기 (Library == Package, Module(단일 .py)의 상위 개념 )"
      ]
    },
    {
      "cell_type": "code",
      "execution_count": 35,
      "metadata": {
        "id": "3uC5VJGZkArs",
        "outputId": "c7d98f8f-a683-4e8d-fe24-4e11326b1730",
        "colab": {
          "base_uri": "https://localhost:8080/"
        }
      },
      "outputs": [
        {
          "output_type": "stream",
          "name": "stdout",
          "text": [
            "Writing module_example.py\n"
          ]
        }
      ],
      "source": [
        "%%writefile module_example.py\n",
        "\n",
        "# @ module_example.py\n",
        "\n",
        "def print_something() :\n",
        "    print('Hello world!')\n",
        "\n",
        "def sum_nums(num1, num2) :\n",
        "    result = num1 + num2\n",
        "    return result"
      ]
    },
    {
      "cell_type": "code",
      "execution_count": 36,
      "metadata": {
        "id": "dx9S8s4okArs"
      },
      "outputs": [],
      "source": [
        "# %ls module_example.py"
      ]
    },
    {
      "cell_type": "code",
      "execution_count": 37,
      "metadata": {
        "id": "jxSOYBGLkArs",
        "outputId": "7acc0be7-4545-464f-fda9-85481f0910a4",
        "colab": {
          "base_uri": "https://localhost:8080/"
        }
      },
      "outputs": [
        {
          "output_type": "stream",
          "name": "stdout",
          "text": [
            "Hello world!\n"
          ]
        }
      ],
      "source": [
        "import module_example\n",
        "\n",
        "module_example.print_something()"
      ]
    },
    {
      "cell_type": "code",
      "execution_count": 38,
      "metadata": {
        "collapsed": true,
        "id": "LXnUSBHqkArs"
      },
      "outputs": [],
      "source": [
        "import numpy # import 라이브러리이름"
      ]
    },
    {
      "cell_type": "code",
      "execution_count": 39,
      "metadata": {
        "id": "obBv5QA0kArs",
        "outputId": "9f4989ba-5073-4273-b134-2bba06cf74fc",
        "colab": {
          "base_uri": "https://localhost:8080/"
        }
      },
      "outputs": [
        {
          "output_type": "execute_result",
          "data": {
            "text/plain": [
              "array([1, 2, 3])"
            ]
          },
          "metadata": {},
          "execution_count": 39
        }
      ],
      "source": [
        "a = numpy.array([1, 2, 3])\n",
        "a"
      ]
    },
    {
      "cell_type": "code",
      "execution_count": 40,
      "metadata": {
        "collapsed": true,
        "id": "7ApnIqbskArt"
      },
      "outputs": [],
      "source": [
        "import numpy as np # import 라이브러리이름 as 별명"
      ]
    },
    {
      "cell_type": "code",
      "execution_count": 41,
      "metadata": {
        "id": "IfIw_NSFkArt",
        "outputId": "e4183ee3-0c15-478e-a32a-f7bc2d232c93",
        "colab": {
          "base_uri": "https://localhost:8080/"
        }
      },
      "outputs": [
        {
          "output_type": "execute_result",
          "data": {
            "text/plain": [
              "array([1, 2, 3])"
            ]
          },
          "metadata": {},
          "execution_count": 41
        }
      ],
      "source": [
        "a = np.array([1, 2, 3])\n",
        "a"
      ]
    },
    {
      "cell_type": "code",
      "execution_count": 42,
      "metadata": {
        "collapsed": true,
        "id": "dG6ckn-bkArt"
      },
      "outputs": [],
      "source": [
        "from numpy import array, ndarray # from 라이브러리이름 import 함수이름"
      ]
    },
    {
      "cell_type": "code",
      "execution_count": 43,
      "metadata": {
        "id": "JYnLW4k-kArt",
        "outputId": "e756cb3e-de2b-4074-ad81-56721a5d7649",
        "colab": {
          "base_uri": "https://localhost:8080/"
        }
      },
      "outputs": [
        {
          "output_type": "execute_result",
          "data": {
            "text/plain": [
              "array([1, 2, 3])"
            ]
          },
          "metadata": {},
          "execution_count": 43
        }
      ],
      "source": [
        "a = array([1, 2, 3])\n",
        "a"
      ]
    },
    {
      "cell_type": "code",
      "execution_count": 44,
      "metadata": {
        "scrolled": true,
        "id": "DbeDI4QnkArt",
        "outputId": "867ef2db-9151-44bc-b1d6-f7730d100b45",
        "colab": {
          "base_uri": "https://localhost:8080/"
        }
      },
      "outputs": [
        {
          "output_type": "execute_result",
          "data": {
            "text/plain": [
              "0.26432020513911947"
            ]
          },
          "metadata": {},
          "execution_count": 44
        }
      ],
      "source": [
        "import random # 외장함수\n",
        "\n",
        "x = random.random()\n",
        "x"
      ]
    },
    {
      "cell_type": "code",
      "execution_count": 49,
      "metadata": {
        "scrolled": true,
        "id": "EdNKSHbskArt",
        "outputId": "7a7e55b8-dffc-4bd3-b294-385643814443",
        "colab": {
          "base_uri": "https://localhost:8080/"
        }
      },
      "outputs": [
        {
          "output_type": "execute_result",
          "data": {
            "text/plain": [
              "86"
            ]
          },
          "metadata": {},
          "execution_count": 49
        }
      ],
      "source": [
        "x = random.randint(1, 100) # 1과 100 사이의 '정수' 를 랜덤하게 뽑으려면? Shift + Tab 을 활용해보세요!\n",
        "x"
      ]
    },
    {
      "cell_type": "code",
      "execution_count": 50,
      "metadata": {
        "id": "D7Oi-7ilkArt",
        "colab": {
          "base_uri": "https://localhost:8080/",
          "height": 35
        },
        "outputId": "8520cd12-a2af-4d59-9042-30c7aae92b33"
      },
      "outputs": [
        {
          "output_type": "execute_result",
          "data": {
            "text/plain": [
              "'/content'"
            ],
            "application/vnd.google.colaboratory.intrinsic+json": {
              "type": "string"
            }
          },
          "metadata": {},
          "execution_count": 50
        }
      ],
      "source": [
        "import os # 외장함수\n",
        "\n",
        "os.getcwd() # get current working directory"
      ]
    },
    {
      "cell_type": "markdown",
      "metadata": {
        "id": "OrpUQWrEkAru"
      },
      "source": [
        "#### pip 명령어 살펴보기 : pip + [ list/freeze/check, show/install/uninstall library_name, search search_keyword ]"
      ]
    },
    {
      "cell_type": "code",
      "execution_count": null,
      "metadata": {
        "id": "jSveB_r0kAru"
      },
      "outputs": [],
      "source": [
        "# cmd 에서 입력해 결과를 확인해보세요.\n",
        "\n",
        "pip list\n",
        "pip freeze > lib_list.txt # -> pip install -r lib_list.txt\n",
        "pip check\n",
        "\n",
        "pip show numpy\n",
        "pip install numpy (주의)\n",
        "pip uninstall numpy (주의)\n",
        "\n",
        "pip download django"
      ]
    }
  ],
  "metadata": {
    "kernel_info": {
      "name": "python3"
    },
    "kernelspec": {
      "display_name": "Python 3",
      "language": "python",
      "name": "python3"
    },
    "language_info": {
      "codemirror_mode": {
        "name": "ipython",
        "version": 3
      },
      "file_extension": ".py",
      "mimetype": "text/x-python",
      "name": "python",
      "nbconvert_exporter": "python",
      "pygments_lexer": "ipython3",
      "version": "3.8.8"
    },
    "nteract": {
      "version": "0.23.1"
    },
    "colab": {
      "provenance": []
    }
  },
  "nbformat": 4,
  "nbformat_minor": 0
}